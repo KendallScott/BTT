{
  "cells": [
    {
      "cell_type": "markdown",
      "metadata": {
        "id": "view-in-github",
        "colab_type": "text"
      },
      "source": [
        "<a href=\"https://colab.research.google.com/github/KendallScott/BTT/blob/master/Lab%201/Lab%201.ipynb\" target=\"_parent\"><img src=\"https://colab.research.google.com/assets/colab-badge.svg\" alt=\"Open In Colab\"/></a>"
      ]
    },
    {
      "cell_type": "markdown",
      "source": [
        "##Business Understanding\n",
        "\n",
        "## Forest Cover Type\n",
        "\n",
        "This dataset looks at the ecological data on 4 areas from Roosevelt National Forest of northern Colorado. Sampling forest cover type for a 30x30 meter areas, determined from US Forest Service (USFS) Region 2 Resource Information System (RIS) data. These areas have minimal human disturbance, in order to provide insight on ecological data over forest management.\n",
        "\n",
        "As for primary major tree species in these areas:\n",
        "### Neota \n",
        "- spruce/fir (type 1)\n",
        "\n",
        "### Rawah and Comanche Peak\n",
        "- lodgepole pine (type 2)\n",
        "- spruce/fir and aspen (type 5)\n",
        "\n",
        "### Cache la Poudre \n",
        "- Ponderosa pine (type 3)\n",
        "- Douglas-fir (type 6)\n",
        "- Cottonwood/willow (type 4)\n",
        "\n",
        "### Acknowledgement\n",
        "This dataset is part of the UCI Machine Learning Repository, and the original source can be found here. The original database owners are Jock A. Blackard, Dr. Denis J. Dean, and Dr. Charles W. Anderson of the Remote Sensing and GIS Program at Colorado State University. (source: https://www.kaggle.com/datasets/uciml/forest-cover-type-dataset)\n",
        "\n",
        "## Predictions\n",
        "### Classification\n",
        "- This dataset can be leveraged to predict categorical values of cover type, based on elevation, slope, soil type, cover type, shadow coverage, and local topography (Using logistic regression or Random Forest).\n",
        "\n",
        "In this analysis we used Accuracy to measure model performance, and in future iterations we will leverage:\n",
        "  - Accuracy\n",
        "  - Sensitivity\n",
        "  - Specificity\n",
        "  - Area Under the ROC curve\n",
        "\n",
        "### Regression\n",
        "Elevation can be predicted using this dataset, by leveraging a linear regression model.\n",
        "Model performance will be measured using:\n",
        "  - RMSE (Root mean squared error)\n",
        "To measure the difference between predictions and actual.\n",
        "\n",
        "### Measuring effectiveness\n",
        "10 fold cross valudation will be leveraged.\n",
        "\n",
        "The insights from this data are useful for understanding the ecology of cover types in the areas sampled were pulled from (Roosevelt National Forest of north Colorado). Trees are an important part of a healthy ecosystem in earth, as they store carbon dioxide, which helps to slow global warming.\n"
      ],
      "metadata": {
        "id": "kktVhb5ut4z7"
      },
      "id": "kktVhb5ut4z7"
    },
    {
      "cell_type": "code",
      "execution_count": 1,
      "id": "a8eb40c8",
      "metadata": {
        "id": "a8eb40c8"
      },
      "outputs": [],
      "source": [
        "# Import packages\n",
        "\n",
        "import pandas as pd\n",
        "from google.colab import files\n",
        "import io\n",
        "import numpy as np\n",
        "import matplotlib.pyplot as plt\n",
        "import seaborn as sns\n",
        "import math\n",
        "from sklearn.preprocessing import MinMaxScaler\n",
        "from sklearn.cluster import KMeans\n",
        "from sklearn.model_selection import train_test_split\n",
        "from sklearn.preprocessing import StandardScaler\n",
        "from sklearn.decomposition import PCA\n",
        "import pandas.plotting\n",
        "from pandas.plotting import scatter_matrix\n",
        "from sklearn.ensemble import RandomForestRegressor\n",
        "from sklearn.linear_model import LogisticRegression\n",
        "from sklearn.metrics import classification_report, confusion_matrix\n"
      ]
    },
    {
      "cell_type": "code",
      "source": [
        "# read the files into a dataframe\n",
        "forest_cover_type = pd.read_csv('covtype 3.csv') \n",
        "\n",
        "# verify the dataframe loaded\n",
        "print(forest_cover_type.shape)\n",
        "forest_cover_type.head()"
      ],
      "metadata": {
        "id": "TS0GLK6Y9Rej",
        "colab": {
          "base_uri": "https://localhost:8080/",
          "height": 317
        },
        "outputId": "66c879fa-8ca6-4d40-8c00-45905544ac63"
      },
      "id": "TS0GLK6Y9Rej",
      "execution_count": 9,
      "outputs": [
        {
          "output_type": "stream",
          "name": "stdout",
          "text": [
            "(581012, 55)\n"
          ]
        },
        {
          "output_type": "execute_result",
          "data": {
            "text/plain": [
              "   Elevation  Aspect  Slope  Horizontal_Distance_To_Hydrology  \\\n",
              "0       2596      51      3                               258   \n",
              "1       2590      56      2                               212   \n",
              "2       2804     139      9                               268   \n",
              "3       2785     155     18                               242   \n",
              "4       2595      45      2                               153   \n",
              "\n",
              "   Vertical_Distance_To_Hydrology  Horizontal_Distance_To_Roadways  \\\n",
              "0                               0                              510   \n",
              "1                              -6                              390   \n",
              "2                              65                             3180   \n",
              "3                             118                             3090   \n",
              "4                              -1                              391   \n",
              "\n",
              "   Hillshade_9am  Hillshade_Noon  Hillshade_3pm  \\\n",
              "0            221             232            148   \n",
              "1            220             235            151   \n",
              "2            234             238            135   \n",
              "3            238             238            122   \n",
              "4            220             234            150   \n",
              "\n",
              "   Horizontal_Distance_To_Fire_Points  ...  Soil_Type32  Soil_Type33  \\\n",
              "0                                6279  ...            0            0   \n",
              "1                                6225  ...            0            0   \n",
              "2                                6121  ...            0            0   \n",
              "3                                6211  ...            0            0   \n",
              "4                                6172  ...            0            0   \n",
              "\n",
              "   Soil_Type34  Soil_Type35  Soil_Type36  Soil_Type37  Soil_Type38  \\\n",
              "0            0            0            0            0            0   \n",
              "1            0            0            0            0            0   \n",
              "2            0            0            0            0            0   \n",
              "3            0            0            0            0            0   \n",
              "4            0            0            0            0            0   \n",
              "\n",
              "   Soil_Type39  Soil_Type40  Cover_Type  \n",
              "0            0            0           5  \n",
              "1            0            0           5  \n",
              "2            0            0           2  \n",
              "3            0            0           2  \n",
              "4            0            0           5  \n",
              "\n",
              "[5 rows x 55 columns]"
            ],
            "text/html": [
              "\n",
              "  <div id=\"df-5b4de4f3-2ce3-43e1-ad9b-3c68a4e2226d\">\n",
              "    <div class=\"colab-df-container\">\n",
              "      <div>\n",
              "<style scoped>\n",
              "    .dataframe tbody tr th:only-of-type {\n",
              "        vertical-align: middle;\n",
              "    }\n",
              "\n",
              "    .dataframe tbody tr th {\n",
              "        vertical-align: top;\n",
              "    }\n",
              "\n",
              "    .dataframe thead th {\n",
              "        text-align: right;\n",
              "    }\n",
              "</style>\n",
              "<table border=\"1\" class=\"dataframe\">\n",
              "  <thead>\n",
              "    <tr style=\"text-align: right;\">\n",
              "      <th></th>\n",
              "      <th>Elevation</th>\n",
              "      <th>Aspect</th>\n",
              "      <th>Slope</th>\n",
              "      <th>Horizontal_Distance_To_Hydrology</th>\n",
              "      <th>Vertical_Distance_To_Hydrology</th>\n",
              "      <th>Horizontal_Distance_To_Roadways</th>\n",
              "      <th>Hillshade_9am</th>\n",
              "      <th>Hillshade_Noon</th>\n",
              "      <th>Hillshade_3pm</th>\n",
              "      <th>Horizontal_Distance_To_Fire_Points</th>\n",
              "      <th>...</th>\n",
              "      <th>Soil_Type32</th>\n",
              "      <th>Soil_Type33</th>\n",
              "      <th>Soil_Type34</th>\n",
              "      <th>Soil_Type35</th>\n",
              "      <th>Soil_Type36</th>\n",
              "      <th>Soil_Type37</th>\n",
              "      <th>Soil_Type38</th>\n",
              "      <th>Soil_Type39</th>\n",
              "      <th>Soil_Type40</th>\n",
              "      <th>Cover_Type</th>\n",
              "    </tr>\n",
              "  </thead>\n",
              "  <tbody>\n",
              "    <tr>\n",
              "      <th>0</th>\n",
              "      <td>2596</td>\n",
              "      <td>51</td>\n",
              "      <td>3</td>\n",
              "      <td>258</td>\n",
              "      <td>0</td>\n",
              "      <td>510</td>\n",
              "      <td>221</td>\n",
              "      <td>232</td>\n",
              "      <td>148</td>\n",
              "      <td>6279</td>\n",
              "      <td>...</td>\n",
              "      <td>0</td>\n",
              "      <td>0</td>\n",
              "      <td>0</td>\n",
              "      <td>0</td>\n",
              "      <td>0</td>\n",
              "      <td>0</td>\n",
              "      <td>0</td>\n",
              "      <td>0</td>\n",
              "      <td>0</td>\n",
              "      <td>5</td>\n",
              "    </tr>\n",
              "    <tr>\n",
              "      <th>1</th>\n",
              "      <td>2590</td>\n",
              "      <td>56</td>\n",
              "      <td>2</td>\n",
              "      <td>212</td>\n",
              "      <td>-6</td>\n",
              "      <td>390</td>\n",
              "      <td>220</td>\n",
              "      <td>235</td>\n",
              "      <td>151</td>\n",
              "      <td>6225</td>\n",
              "      <td>...</td>\n",
              "      <td>0</td>\n",
              "      <td>0</td>\n",
              "      <td>0</td>\n",
              "      <td>0</td>\n",
              "      <td>0</td>\n",
              "      <td>0</td>\n",
              "      <td>0</td>\n",
              "      <td>0</td>\n",
              "      <td>0</td>\n",
              "      <td>5</td>\n",
              "    </tr>\n",
              "    <tr>\n",
              "      <th>2</th>\n",
              "      <td>2804</td>\n",
              "      <td>139</td>\n",
              "      <td>9</td>\n",
              "      <td>268</td>\n",
              "      <td>65</td>\n",
              "      <td>3180</td>\n",
              "      <td>234</td>\n",
              "      <td>238</td>\n",
              "      <td>135</td>\n",
              "      <td>6121</td>\n",
              "      <td>...</td>\n",
              "      <td>0</td>\n",
              "      <td>0</td>\n",
              "      <td>0</td>\n",
              "      <td>0</td>\n",
              "      <td>0</td>\n",
              "      <td>0</td>\n",
              "      <td>0</td>\n",
              "      <td>0</td>\n",
              "      <td>0</td>\n",
              "      <td>2</td>\n",
              "    </tr>\n",
              "    <tr>\n",
              "      <th>3</th>\n",
              "      <td>2785</td>\n",
              "      <td>155</td>\n",
              "      <td>18</td>\n",
              "      <td>242</td>\n",
              "      <td>118</td>\n",
              "      <td>3090</td>\n",
              "      <td>238</td>\n",
              "      <td>238</td>\n",
              "      <td>122</td>\n",
              "      <td>6211</td>\n",
              "      <td>...</td>\n",
              "      <td>0</td>\n",
              "      <td>0</td>\n",
              "      <td>0</td>\n",
              "      <td>0</td>\n",
              "      <td>0</td>\n",
              "      <td>0</td>\n",
              "      <td>0</td>\n",
              "      <td>0</td>\n",
              "      <td>0</td>\n",
              "      <td>2</td>\n",
              "    </tr>\n",
              "    <tr>\n",
              "      <th>4</th>\n",
              "      <td>2595</td>\n",
              "      <td>45</td>\n",
              "      <td>2</td>\n",
              "      <td>153</td>\n",
              "      <td>-1</td>\n",
              "      <td>391</td>\n",
              "      <td>220</td>\n",
              "      <td>234</td>\n",
              "      <td>150</td>\n",
              "      <td>6172</td>\n",
              "      <td>...</td>\n",
              "      <td>0</td>\n",
              "      <td>0</td>\n",
              "      <td>0</td>\n",
              "      <td>0</td>\n",
              "      <td>0</td>\n",
              "      <td>0</td>\n",
              "      <td>0</td>\n",
              "      <td>0</td>\n",
              "      <td>0</td>\n",
              "      <td>5</td>\n",
              "    </tr>\n",
              "  </tbody>\n",
              "</table>\n",
              "<p>5 rows × 55 columns</p>\n",
              "</div>\n",
              "      <button class=\"colab-df-convert\" onclick=\"convertToInteractive('df-5b4de4f3-2ce3-43e1-ad9b-3c68a4e2226d')\"\n",
              "              title=\"Convert this dataframe to an interactive table.\"\n",
              "              style=\"display:none;\">\n",
              "        \n",
              "  <svg xmlns=\"http://www.w3.org/2000/svg\" height=\"24px\"viewBox=\"0 0 24 24\"\n",
              "       width=\"24px\">\n",
              "    <path d=\"M0 0h24v24H0V0z\" fill=\"none\"/>\n",
              "    <path d=\"M18.56 5.44l.94 2.06.94-2.06 2.06-.94-2.06-.94-.94-2.06-.94 2.06-2.06.94zm-11 1L8.5 8.5l.94-2.06 2.06-.94-2.06-.94L8.5 2.5l-.94 2.06-2.06.94zm10 10l.94 2.06.94-2.06 2.06-.94-2.06-.94-.94-2.06-.94 2.06-2.06.94z\"/><path d=\"M17.41 7.96l-1.37-1.37c-.4-.4-.92-.59-1.43-.59-.52 0-1.04.2-1.43.59L10.3 9.45l-7.72 7.72c-.78.78-.78 2.05 0 2.83L4 21.41c.39.39.9.59 1.41.59.51 0 1.02-.2 1.41-.59l7.78-7.78 2.81-2.81c.8-.78.8-2.07 0-2.86zM5.41 20L4 18.59l7.72-7.72 1.47 1.35L5.41 20z\"/>\n",
              "  </svg>\n",
              "      </button>\n",
              "      \n",
              "  <style>\n",
              "    .colab-df-container {\n",
              "      display:flex;\n",
              "      flex-wrap:wrap;\n",
              "      gap: 12px;\n",
              "    }\n",
              "\n",
              "    .colab-df-convert {\n",
              "      background-color: #E8F0FE;\n",
              "      border: none;\n",
              "      border-radius: 50%;\n",
              "      cursor: pointer;\n",
              "      display: none;\n",
              "      fill: #1967D2;\n",
              "      height: 32px;\n",
              "      padding: 0 0 0 0;\n",
              "      width: 32px;\n",
              "    }\n",
              "\n",
              "    .colab-df-convert:hover {\n",
              "      background-color: #E2EBFA;\n",
              "      box-shadow: 0px 1px 2px rgba(60, 64, 67, 0.3), 0px 1px 3px 1px rgba(60, 64, 67, 0.15);\n",
              "      fill: #174EA6;\n",
              "    }\n",
              "\n",
              "    [theme=dark] .colab-df-convert {\n",
              "      background-color: #3B4455;\n",
              "      fill: #D2E3FC;\n",
              "    }\n",
              "\n",
              "    [theme=dark] .colab-df-convert:hover {\n",
              "      background-color: #434B5C;\n",
              "      box-shadow: 0px 1px 3px 1px rgba(0, 0, 0, 0.15);\n",
              "      filter: drop-shadow(0px 1px 2px rgba(0, 0, 0, 0.3));\n",
              "      fill: #FFFFFF;\n",
              "    }\n",
              "  </style>\n",
              "\n",
              "      <script>\n",
              "        const buttonEl =\n",
              "          document.querySelector('#df-5b4de4f3-2ce3-43e1-ad9b-3c68a4e2226d button.colab-df-convert');\n",
              "        buttonEl.style.display =\n",
              "          google.colab.kernel.accessAllowed ? 'block' : 'none';\n",
              "\n",
              "        async function convertToInteractive(key) {\n",
              "          const element = document.querySelector('#df-5b4de4f3-2ce3-43e1-ad9b-3c68a4e2226d');\n",
              "          const dataTable =\n",
              "            await google.colab.kernel.invokeFunction('convertToInteractive',\n",
              "                                                     [key], {});\n",
              "          if (!dataTable) return;\n",
              "\n",
              "          const docLinkHtml = 'Like what you see? Visit the ' +\n",
              "            '<a target=\"_blank\" href=https://colab.research.google.com/notebooks/data_table.ipynb>data table notebook</a>'\n",
              "            + ' to learn more about interactive tables.';\n",
              "          element.innerHTML = '';\n",
              "          dataTable['output_type'] = 'display_data';\n",
              "          await google.colab.output.renderOutput(dataTable, element);\n",
              "          const docLink = document.createElement('div');\n",
              "          docLink.innerHTML = docLinkHtml;\n",
              "          element.appendChild(docLink);\n",
              "        }\n",
              "      </script>\n",
              "    </div>\n",
              "  </div>\n",
              "  "
            ]
          },
          "metadata": {},
          "execution_count": 9
        }
      ]
    },
    {
      "cell_type": "markdown",
      "source": [
        "## Data Meaning \n",
        "\n",
        "Attributes:\t\n",
        "\n",
        "- 10 quantitative variables\n",
        "  - Elevation - Elevation in meters\n",
        "  - Aspect - Aspect in degrees azimuth\n",
        "  - Slope - Slope in degrees\n",
        "  - Horizontal Distance to Hydrology - Horz Dist to nearest surface water features (meters)\n",
        "  - Vertical Distance to Hydrology - Vert Dist to nearest surface water features (meters)\n",
        "  - Horizontal Distance to Roadways - Horz Dist to nearest roadway (meters)\n",
        "  - Hill shade 9 am (0 to 255 index) - Hillshade index at 9am, summer solstice\n",
        "  - Hill shade noon (0 to 255 index) - Hillshade index at noon, summer solstice\n",
        "  - Hill shade 3 pm (0 to 255 index) - Hillshade index at 3pm, summer solstice\n",
        "  - Horizontal distance to fire points - Horz Dist to nearest wildfire ignition points (meters)\n",
        "\n",
        "- 4 binary wilderness areas \n",
        "  - Neota\n",
        "  - Rawah\n",
        "  - Comanche Peak\n",
        "  - Cache la Poudre\n",
        "\n",
        "- 7 Cover Types (Forest Cover Type designation)\n",
        "  - 1: Spruce/Fir\n",
        "  - 2: Lodgepole Pine\n",
        "  - 3: Ponderosa Pine\n",
        "  - 4: Cottonwood/Willow\n",
        "  - 5: Aspen\n",
        "  - 6: Douglas-fir\n",
        "  - 7: Krummholz\n",
        "\n",
        "\n",
        "- 40 binary soil type variables\n",
        "\n",
        "\t- 1: Cathedral family - Rock outcrop complex, extremely stony.\n",
        "\t- 2: Vanet - Ratake families complex, very stony.\n",
        "\t- 3: Haploborolis - Rock outcrop complex, rubbly.\n",
        "\t- 4: Ratake family - Rock outcrop complex, rubbly.\n",
        "\t- 5: Vanet family - Rock outcrop complex complex, rubbly.\n",
        "\t- 6: Vanet - Wetmore families - Rock outcrop complex, stony.\n",
        "\t- 7: Gothic family.\n",
        "\t- 8: Supervisor - Limber families complex.\n",
        "\t- 9: Troutville family, very stony.\n",
        "\t- 10: Bullwark - Catamount families - Rock outcrop complex, rubbly.\n",
        "\t- 11: Bullwark - Catamount families - Rock land complex, rubbly.\n",
        "\t- 12: Legault family - Rock land complex, stony.\n",
        "\t- 13: Catamount family - Rock land - Bullwark family complex, rubbly.\n",
        "\t- 14: Pachic Argiborolis - Aquolis complex.\n",
        "\t- 15: unspecified in the USFS Soil and ELU Survey.\n",
        "\t- 16: Cryaquolis - Cryoborolis complex.\n",
        "\t- 17: Gateview family - Cryaquolis complex.\n",
        "\t- 18: Rogert family, very stony.\n",
        "\t- 19: Typic Cryaquolis - Borohemists complex.\n",
        "\t- 20: Typic Cryaquepts - Typic Cryaquolls complex.\n",
        "\t- 21: Typic Cryaquolls - Leighcan family, till substratum complex.\n",
        "\t- 22: Leighcan family, till substratum, extremely bouldery.\n",
        "\t- 23: Leighcan family, till substratum - Typic Cryaquolls complex.\n",
        "\t- 24: Leighcan family, extremely stony.\n",
        "\t- 25: Leighcan family, warm, extremely stony.\n",
        "\t- 26: Granile - Catamount families complex, very stony.\n",
        "\t- 27: Leighcan family, warm - Rock outcrop complex, extremely stony.\n",
        "\t- 28: Leighcan family - Rock outcrop complex, extremely stony.\n",
        "\t- 29: Como - Legault families complex, extremely stony.\n",
        "\t- 30: Como family - Rock land - Legault family complex, extremely stony.\n",
        "\t- 31: Leighcan - Catamount families complex, extremely stony.\n",
        "\t- 32: Catamount family - Rock outcrop - Leighcan family complex, extremely stony.\n",
        "\t- 33: Leighcan - Catamount families - Rock outcrop complex, extremely stony.\n",
        "\t- 34: Cryorthents - Rock land complex, extremely stony.\n",
        "\t- 35: Cryumbrepts - Rock outcrop - Cryaquepts complex.\n",
        "\t- 36: Bross family - Rock land - Cryumbrepts complex, extremely stony.\n",
        "\t- 37: Rock outcrop - Cryumbrepts - Cryorthents complex, extremely stony.\n",
        "\t- 38: Leighcan - Moran families - Cryaquolls complex, extremely stony.\n",
        "\t- 39: Moran family - Cryorthents - Leighcan family complex, extremely stony.\n",
        "\t- 40: Moran family - Cryorthents - Rock land complex, extremely stony."
      ],
      "metadata": {
        "id": "HCFAMtn6uLfc"
      },
      "id": "HCFAMtn6uLfc"
    },
    {
      "cell_type": "markdown",
      "source": [
        "## Data Quality\n",
        "- There are no null values in this dataset\n",
        "- We made adjustments to the numeric categorical columns for ease of use and understanding:\n",
        "  - Soil type- from 40 to 1 column\n",
        "  - Cover type- from 7 integer columns down to 1 column of a categorical string.\n",
        "  - Wilderness area- from 4 integer columns down to 1 column of a categorical string.\n",
        "\n",
        "- While we saw some outliers in terms of elevation for some cover types, there was no indication that this was an error. For example, Krummholz is known as a high elevation cover type.\n",
        "- Similarly, we found higher populations of Spruce/Fir in the dataset vs. other cover types, but this is expected:\n",
        "\"Spruce-fir is among the most extensive forest types in Colorado, covering approximately 4.6 million acres or 19 percent of the state’s forested lands.\" (https://csfs.colostate.edu/colorado-forests/forest-types/spruce-fir/)\n",
        "- We leveraged the pandas .duplicated() function to check for duplicate values, and did not find any in the data."
      ],
      "metadata": {
        "id": "bvptYem6vd1z"
      },
      "id": "bvptYem6vd1z"
    },
    {
      "cell_type": "code",
      "execution_count": 10,
      "id": "9cf09e3b",
      "metadata": {
        "id": "9cf09e3b",
        "colab": {
          "base_uri": "https://localhost:8080/"
        },
        "outputId": "79ddfee5-1fe7-4ecf-d231-308847e2744b"
      },
      "outputs": [
        {
          "output_type": "stream",
          "name": "stdout",
          "text": [
            "Elevation                             0\n",
            "Aspect                                0\n",
            "Slope                                 0\n",
            "Horizontal_Distance_To_Hydrology      0\n",
            "Vertical_Distance_To_Hydrology        0\n",
            "Horizontal_Distance_To_Roadways       0\n",
            "Hillshade_9am                         0\n",
            "Hillshade_Noon                        0\n",
            "Hillshade_3pm                         0\n",
            "Horizontal_Distance_To_Fire_Points    0\n",
            "Wilderness_Area1                      0\n",
            "Wilderness_Area2                      0\n",
            "Wilderness_Area3                      0\n",
            "Wilderness_Area4                      0\n",
            "Soil_Type1                            0\n",
            "Soil_Type2                            0\n",
            "Soil_Type3                            0\n",
            "Soil_Type4                            0\n",
            "Soil_Type5                            0\n",
            "Soil_Type6                            0\n",
            "Soil_Type7                            0\n",
            "Soil_Type8                            0\n",
            "Soil_Type9                            0\n",
            "Soil_Type10                           0\n",
            "Soil_Type11                           0\n",
            "Soil_Type12                           0\n",
            "Soil_Type13                           0\n",
            "Soil_Type14                           0\n",
            "Soil_Type15                           0\n",
            "Soil_Type16                           0\n",
            "Soil_Type17                           0\n",
            "Soil_Type18                           0\n",
            "Soil_Type19                           0\n",
            "Soil_Type20                           0\n",
            "Soil_Type21                           0\n",
            "Soil_Type22                           0\n",
            "Soil_Type23                           0\n",
            "Soil_Type24                           0\n",
            "Soil_Type25                           0\n",
            "Soil_Type26                           0\n",
            "Soil_Type27                           0\n",
            "Soil_Type28                           0\n",
            "Soil_Type29                           0\n",
            "Soil_Type30                           0\n",
            "Soil_Type31                           0\n",
            "Soil_Type32                           0\n",
            "Soil_Type33                           0\n",
            "Soil_Type34                           0\n",
            "Soil_Type35                           0\n",
            "Soil_Type36                           0\n",
            "Soil_Type37                           0\n",
            "Soil_Type38                           0\n",
            "Soil_Type39                           0\n",
            "Soil_Type40                           0\n",
            "Cover_Type                            0\n",
            "dtype: int64\n",
            "\n",
            "\n",
            "2    283301\n",
            "1    211840\n",
            "3     35754\n",
            "7     20510\n",
            "6     17367\n",
            "5      9493\n",
            "4      2747\n",
            "Name: Cover_Type, dtype: int64\n"
          ]
        }
      ],
      "source": [
        "# count the nulls\n",
        "print(forest_cover_type.isnull().sum())\n",
        "print('\\n')\n",
        "# count the frequency of each outcome\n",
        "print(forest_cover_type['Cover_Type'].value_counts())"
      ]
    },
    {
      "cell_type": "code",
      "source": [
        "#check for duplicates\n",
        "bool_series = forest_cover_type.duplicated()\n",
        "bool_series"
      ],
      "metadata": {
        "id": "aglp2C_nKwIo",
        "colab": {
          "base_uri": "https://localhost:8080/"
        },
        "outputId": "d83f1426-c90f-412a-d5b6-ac03b2e42027"
      },
      "id": "aglp2C_nKwIo",
      "execution_count": 11,
      "outputs": [
        {
          "output_type": "execute_result",
          "data": {
            "text/plain": [
              "0         False\n",
              "1         False\n",
              "2         False\n",
              "3         False\n",
              "4         False\n",
              "          ...  \n",
              "581007    False\n",
              "581008    False\n",
              "581009    False\n",
              "581010    False\n",
              "581011    False\n",
              "Length: 581012, dtype: bool"
            ]
          },
          "metadata": {},
          "execution_count": 11
        }
      ]
    },
    {
      "cell_type": "code",
      "source": [
        "#Data clean-up\n",
        "# make list of continuous variables\n",
        "continuous_variables = ['Elevation', \n",
        "                        'Aspect', \n",
        "                        'Slope', \n",
        "                        'Horizontal_Distance_To_Hydrology', \n",
        "                        'Vertical_Distance_To_Hydrology',\n",
        "                        'Horizontal_Distance_To_Roadways',\n",
        "                        'Hillshade_9am','Hillshade_Noon',\n",
        "                        'Hillshade_3pm',\n",
        "                        'Horizontal_Distance_To_Fire_Points',\n",
        "                        'Cover_Type']\n",
        "\n",
        "# use list to make df\n",
        "continuous_variables_df = forest_cover_type[continuous_variables]\n",
        "\n",
        "# subset df to make binary categorical\n",
        "# second number not inclusive\n",
        "Wilderness_Area = forest_cover_type.iloc[:, 10:14]\n",
        "Wilderness_Area['Wilderness_Area'] = Wilderness_Area.idxmax(axis = 1)\n",
        "\n",
        "# subset df to make binary categorical\n",
        "# second number not inclusive\n",
        "Soil_Type = forest_cover_type.iloc[:, 14:54]\n",
        "Soil_Type['Soil_Type'] = Soil_Type.idxmax(axis = 1)\n",
        "\n",
        "# only keep the new column\n",
        "Soil_Type = Soil_Type[['Soil_Type']]\n",
        "Wilderness_Area = Wilderness_Area[['Wilderness_Area']]\n",
        "\n",
        "# Add new columns to df\n",
        "forest_cover_type['Soil_Type'] = Soil_Type\n",
        "forest_cover_type['Wilderness_Area'] = Wilderness_Area\n",
        "\n",
        "# delete first few characters in column so we only have number\n",
        "forest_cover_type['Soil_Type'] = forest_cover_type['Soil_Type'].str[9:]\n",
        "forest_cover_type['Wilderness_Area'] = forest_cover_type['Wilderness_Area'].str[15:]\n",
        "\n",
        "# delete superfluous columns now that new columsn are added\n",
        "forest_cover_type.drop(forest_cover_type.iloc[:, 10:54], \n",
        "                       axis = 1, \n",
        "                       inplace = True)\n",
        "\n",
        "# replace numerical categories with string for ease of understanding\n",
        "forest_cover_type['Wilderness_Area'] = forest_cover_type['Wilderness_Area'].str.replace('Wilderness_Area1','Rawah')\n",
        "forest_cover_type['Wilderness_Area'] = forest_cover_type['Wilderness_Area'].str.replace('Wilderness_Area2','Neota')\n",
        "forest_cover_type['Wilderness_Area'] = forest_cover_type['Wilderness_Area'].str.replace('Wilderness_Area3','Comanche Peak')\n",
        "forest_cover_type['Wilderness_Area'] = forest_cover_type['Wilderness_Area'].str.replace('Wilderness_Area4','Cache la Poudre')\n",
        "\n",
        "forest_cover_type = forest_cover_type.astype({'Cover_Type':'string'})\n",
        "\n",
        "forest_cover_type['Cover_Type'] = forest_cover_type['Cover_Type'].str.replace('1','Spruce/Fir')\n",
        "forest_cover_type['Cover_Type'] = forest_cover_type['Cover_Type'].str.replace('2','Lodgepole Pine')\n",
        "forest_cover_type['Cover_Type'] = forest_cover_type['Cover_Type'].str.replace('3','Ponderosa Pine')\n",
        "forest_cover_type['Cover_Type'] = forest_cover_type['Cover_Type'].str.replace('4','Cottonwood/Willow')\n",
        "forest_cover_type['Cover_Type'] = forest_cover_type['Cover_Type'].str.replace('5','Aspen')\n",
        "forest_cover_type['Cover_Type'] = forest_cover_type['Cover_Type'].str.replace('6','Douglas-fir')\n",
        "forest_cover_type['Cover_Type'] = forest_cover_type['Cover_Type'].str.replace('7','Krummholz')"
      ],
      "metadata": {
        "id": "NcIArLnnIzmk",
        "colab": {
          "base_uri": "https://localhost:8080/"
        },
        "outputId": "9a4372cc-ad16-4baf-b710-40443cd3858e"
      },
      "id": "NcIArLnnIzmk",
      "execution_count": 12,
      "outputs": [
        {
          "output_type": "stream",
          "name": "stderr",
          "text": [
            "<ipython-input-12-b901e1a135bd>:20: SettingWithCopyWarning: \n",
            "A value is trying to be set on a copy of a slice from a DataFrame.\n",
            "Try using .loc[row_indexer,col_indexer] = value instead\n",
            "\n",
            "See the caveats in the documentation: https://pandas.pydata.org/pandas-docs/stable/user_guide/indexing.html#returning-a-view-versus-a-copy\n",
            "  Wilderness_Area['Wilderness_Area'] = Wilderness_Area.idxmax(axis = 1)\n",
            "<ipython-input-12-b901e1a135bd>:25: SettingWithCopyWarning: \n",
            "A value is trying to be set on a copy of a slice from a DataFrame.\n",
            "Try using .loc[row_indexer,col_indexer] = value instead\n",
            "\n",
            "See the caveats in the documentation: https://pandas.pydata.org/pandas-docs/stable/user_guide/indexing.html#returning-a-view-versus-a-copy\n",
            "  Soil_Type['Soil_Type'] = Soil_Type.idxmax(axis = 1)\n"
          ]
        }
      ]
    },
    {
      "cell_type": "markdown",
      "source": [
        "## Simple Statistics \n",
        "\n",
        "The average plot of land in this study was at just below 3,000 meters with all of them being between 1,859 and 3,858 meters. This mean plot also had an aspect of 155.7 degrees, or facing mostly south, with almost even distribution across the four caridnal directions and had a slope of 14 degrees. The maximum slope of land in this study was 66 degrees. However, 75% of the slope measurements were less than 18 degrees.\n",
        "\n",
        "The mean plot of land sampled was was 269 meters horizontally and 46 meters vertically sperated from the nearest water source. While there were some outliers in the distance to hydrology, a large portion of the data lied within 384 meters horizontally and 69 meters vertically of a water source.\n",
        "\n",
        "The mean distances a plot of land was from a roadway and a previous fire location were 2,350 meters and 1,980 meters respectively. Three-quarters of the plots were within 3,328 meters but the max distance seperated from a roadway was 7,117 meters. Similarily, most of the plots were closer to a previous fire point, with 75% being closer than 2,550 meters but the farthest being 7,173 meters away.\n",
        "\n",
        "Finally, the amount of light received, or hillshade, each plot received was on average 212, 223, and 142 for 9am, Noon, and 3pm respectively."
      ],
      "metadata": {
        "id": "z3jWKBCyXpac"
      },
      "id": "z3jWKBCyXpac"
    },
    {
      "cell_type": "code",
      "source": [
        "simpleStats = forest_cover_type.describe()\n",
        "print(simpleStats)\n",
        "\n",
        "simpleStats.reset_index(inplace=True)\n",
        "num_col = forest_cover_type._get_numeric_data().columns\n",
        "simpleStats = simpleStats[simpleStats['index'] != 'count']\n",
        "\n",
        "fig1, ax1 = plt.subplots(1,2)\n",
        "sns.lineplot(x='index',y='Elevation',data=simpleStats,ax=ax1[0])\n",
        "sns.lineplot(x='index',y='Slope',data=simpleStats,ax=ax1[1])\n",
        "fig1.show()\n",
        "plt.figure()\n",
        "sns.boxplot(x='Aspect',data=forest_cover_type)\n",
        "fig2, ax2 = plt.subplots(1,2)\n",
        "fig2.show()\n",
        "sns.lineplot(x='index',y='Horizontal_Distance_To_Hydrology',data=simpleStats,ax=ax2[0])\n",
        "sns.lineplot(x='index',y='Vertical_Distance_To_Hydrology',data=simpleStats,ax=ax2[1])\n",
        "fig3, ax3 = plt.subplots(1,2)\n",
        "sns.lineplot(x='index',y='Horizontal_Distance_To_Roadways',data=simpleStats,ax=ax3[0])\n",
        "sns.lineplot(x='index',y='Horizontal_Distance_To_Fire_Points',data=simpleStats,ax=ax3[1])\n",
        "fig3.show()\n",
        "fig4, ax4 = plt.subplots(1,3)\n",
        "sns.lineplot(x='index',y='Hillshade_9am',data=simpleStats,ax=ax4[0])\n",
        "sns.lineplot(x='index',y='Hillshade_Noon',data=simpleStats,ax=ax4[1])\n",
        "sns.lineplot(x='index',y='Hillshade_3pm',data=simpleStats,ax=ax4[2])\n",
        "fig4.show()"
      ],
      "metadata": {
        "id": "LnAYfoqQR5-J",
        "colab": {
          "base_uri": "https://localhost:8080/",
          "height": 1000
        },
        "outputId": "dd8e4008-db4a-423c-cb9b-9a11baf21baf"
      },
      "id": "LnAYfoqQR5-J",
      "execution_count": 13,
      "outputs": [
        {
          "output_type": "stream",
          "name": "stdout",
          "text": [
            "           Elevation         Aspect          Slope  \\\n",
            "count  581012.000000  581012.000000  581012.000000   \n",
            "mean     2959.365301     155.656807      14.103704   \n",
            "std       279.984734     111.913721       7.488242   \n",
            "min      1859.000000       0.000000       0.000000   \n",
            "25%      2809.000000      58.000000       9.000000   \n",
            "50%      2996.000000     127.000000      13.000000   \n",
            "75%      3163.000000     260.000000      18.000000   \n",
            "max      3858.000000     360.000000      66.000000   \n",
            "\n",
            "       Horizontal_Distance_To_Hydrology  Vertical_Distance_To_Hydrology  \\\n",
            "count                     581012.000000                   581012.000000   \n",
            "mean                         269.428217                       46.418855   \n",
            "std                          212.549356                       58.295232   \n",
            "min                            0.000000                     -173.000000   \n",
            "25%                          108.000000                        7.000000   \n",
            "50%                          218.000000                       30.000000   \n",
            "75%                          384.000000                       69.000000   \n",
            "max                         1397.000000                      601.000000   \n",
            "\n",
            "       Horizontal_Distance_To_Roadways  Hillshade_9am  Hillshade_Noon  \\\n",
            "count                    581012.000000  581012.000000   581012.000000   \n",
            "mean                       2350.146611     212.146049      223.318716   \n",
            "std                        1559.254870      26.769889       19.768697   \n",
            "min                           0.000000       0.000000        0.000000   \n",
            "25%                        1106.000000     198.000000      213.000000   \n",
            "50%                        1997.000000     218.000000      226.000000   \n",
            "75%                        3328.000000     231.000000      237.000000   \n",
            "max                        7117.000000     254.000000      254.000000   \n",
            "\n",
            "       Hillshade_3pm  Horizontal_Distance_To_Fire_Points  \n",
            "count  581012.000000                       581012.000000  \n",
            "mean      142.528263                         1980.291226  \n",
            "std        38.274529                         1324.195210  \n",
            "min         0.000000                            0.000000  \n",
            "25%       119.000000                         1024.000000  \n",
            "50%       143.000000                         1710.000000  \n",
            "75%       168.000000                         2550.000000  \n",
            "max       254.000000                         7173.000000  \n"
          ]
        },
        {
          "output_type": "display_data",
          "data": {
            "text/plain": [
              "<Figure size 432x288 with 2 Axes>"
            ],
            "image/png": "[encoded data removed]"
          },
          "metadata": {
            "needs_background": "light"
          }
        },
        {
          "output_type": "display_data",
          "data": {
            "text/plain": [
              "<Figure size 432x288 with 1 Axes>"
            ],
            "image/png": "[encoded data removed]"
          },
          "metadata": {
            "needs_background": "light"
          }
        },
        {
          "output_type": "display_data",
          "data": {
            "text/plain": [
              "<Figure size 432x288 with 2 Axes>"
            ],
            "image/png": "[encoded data removed]"
          },
          "metadata": {
            "needs_background": "light"
          }
        },
        {
          "output_type": "display_data",
          "data": {
            "text/plain": [
              "<Figure size 432x288 with 2 Axes>"
            ],
            "image/png": "[encoded data removed]"
          },
          "metadata": {
            "needs_background": "light"
          }
        },
        {
          "output_type": "display_data",
          "data": {
            "text/plain": [
              "<Figure size 432x288 with 3 Axes>"
            ],
            "image/png": "[encoded data removed]"
          },
          "metadata": {
            "needs_background": "light"
          }
        }
      ]
    },
    {
      "cell_type": "code",
      "source": [
        "simpleStats"
      ],
      "metadata": {
        "id": "r7g7i9AeTwTJ",
        "colab": {
          "base_uri": "https://localhost:8080/",
          "height": 333
        },
        "outputId": "9a1524ab-2913-4095-b8d1-81b613fc997b"
      },
      "id": "r7g7i9AeTwTJ",
      "execution_count": 14,
      "outputs": [
        {
          "output_type": "execute_result",
          "data": {
            "text/plain": [
              "  index    Elevation      Aspect      Slope  Horizontal_Distance_To_Hydrology  \\\n",
              "1  mean  2959.365301  155.656807  14.103704                        269.428217   \n",
              "2   std   279.984734  111.913721   7.488242                        212.549356   \n",
              "3   min  1859.000000    0.000000   0.000000                          0.000000   \n",
              "4   25%  2809.000000   58.000000   9.000000                        108.000000   \n",
              "5   50%  2996.000000  127.000000  13.000000                        218.000000   \n",
              "6   75%  3163.000000  260.000000  18.000000                        384.000000   \n",
              "7   max  3858.000000  360.000000  66.000000                       1397.000000   \n",
              "\n",
              "   Vertical_Distance_To_Hydrology  Horizontal_Distance_To_Roadways  \\\n",
              "1                       46.418855                      2350.146611   \n",
              "2                       58.295232                      1559.254870   \n",
              "3                     -173.000000                         0.000000   \n",
              "4                        7.000000                      1106.000000   \n",
              "5                       30.000000                      1997.000000   \n",
              "6                       69.000000                      3328.000000   \n",
              "7                      601.000000                      7117.000000   \n",
              "\n",
              "   Hillshade_9am  Hillshade_Noon  Hillshade_3pm  \\\n",
              "1     212.146049      223.318716     142.528263   \n",
              "2      26.769889       19.768697      38.274529   \n",
              "3       0.000000        0.000000       0.000000   \n",
              "4     198.000000      213.000000     119.000000   \n",
              "5     218.000000      226.000000     143.000000   \n",
              "6     231.000000      237.000000     168.000000   \n",
              "7     254.000000      254.000000     254.000000   \n",
              "\n",
              "   Horizontal_Distance_To_Fire_Points  \n",
              "1                         1980.291226  \n",
              "2                         1324.195210  \n",
              "3                            0.000000  \n",
              "4                         1024.000000  \n",
              "5                         1710.000000  \n",
              "6                         2550.000000  \n",
              "7                         7173.000000  "
            ],
            "text/html": [
              "\n",
              "  <div id=\"df-f7eb62a4-44fe-4d41-bdfa-2b03b0f3e748\">\n",
              "    <div class=\"colab-df-container\">\n",
              "      <div>\n",
              "<style scoped>\n",
              "    .dataframe tbody tr th:only-of-type {\n",
              "        vertical-align: middle;\n",
              "    }\n",
              "\n",
              "    .dataframe tbody tr th {\n",
              "        vertical-align: top;\n",
              "    }\n",
              "\n",
              "    .dataframe thead th {\n",
              "        text-align: right;\n",
              "    }\n",
              "</style>\n",
              "<table border=\"1\" class=\"dataframe\">\n",
              "  <thead>\n",
              "    <tr style=\"text-align: right;\">\n",
              "      <th></th>\n",
              "      <th>index</th>\n",
              "      <th>Elevation</th>\n",
              "      <th>Aspect</th>\n",
              "      <th>Slope</th>\n",
              "      <th>Horizontal_Distance_To_Hydrology</th>\n",
              "      <th>Vertical_Distance_To_Hydrology</th>\n",
              "      <th>Horizontal_Distance_To_Roadways</th>\n",
              "      <th>Hillshade_9am</th>\n",
              "      <th>Hillshade_Noon</th>\n",
              "      <th>Hillshade_3pm</th>\n",
              "      <th>Horizontal_Distance_To_Fire_Points</th>\n",
              "    </tr>\n",
              "  </thead>\n",
              "  <tbody>\n",
              "    <tr>\n",
              "      <th>1</th>\n",
              "      <td>mean</td>\n",
              "      <td>2959.365301</td>\n",
              "      <td>155.656807</td>\n",
              "      <td>14.103704</td>\n",
              "      <td>269.428217</td>\n",
              "      <td>46.418855</td>\n",
              "      <td>2350.146611</td>\n",
              "      <td>212.146049</td>\n",
              "      <td>223.318716</td>\n",
              "      <td>142.528263</td>\n",
              "      <td>1980.291226</td>\n",
              "    </tr>\n",
              "    <tr>\n",
              "      <th>2</th>\n",
              "      <td>std</td>\n",
              "      <td>279.984734</td>\n",
              "      <td>111.913721</td>\n",
              "      <td>7.488242</td>\n",
              "      <td>212.549356</td>\n",
              "      <td>58.295232</td>\n",
              "      <td>1559.254870</td>\n",
              "      <td>26.769889</td>\n",
              "      <td>19.768697</td>\n",
              "      <td>38.274529</td>\n",
              "      <td>1324.195210</td>\n",
              "    </tr>\n",
              "    <tr>\n",
              "      <th>3</th>\n",
              "      <td>min</td>\n",
              "      <td>1859.000000</td>\n",
              "      <td>0.000000</td>\n",
              "      <td>0.000000</td>\n",
              "      <td>0.000000</td>\n",
              "      <td>-173.000000</td>\n",
              "      <td>0.000000</td>\n",
              "      <td>0.000000</td>\n",
              "      <td>0.000000</td>\n",
              "      <td>0.000000</td>\n",
              "      <td>0.000000</td>\n",
              "    </tr>\n",
              "    <tr>\n",
              "      <th>4</th>\n",
              "      <td>25%</td>\n",
              "      <td>2809.000000</td>\n",
              "      <td>58.000000</td>\n",
              "      <td>9.000000</td>\n",
              "      <td>108.000000</td>\n",
              "      <td>7.000000</td>\n",
              "      <td>1106.000000</td>\n",
              "      <td>198.000000</td>\n",
              "      <td>213.000000</td>\n",
              "      <td>119.000000</td>\n",
              "      <td>1024.000000</td>\n",
              "    </tr>\n",
              "    <tr>\n",
              "      <th>5</th>\n",
              "      <td>50%</td>\n",
              "      <td>2996.000000</td>\n",
              "      <td>127.000000</td>\n",
              "      <td>13.000000</td>\n",
              "      <td>218.000000</td>\n",
              "      <td>30.000000</td>\n",
              "      <td>1997.000000</td>\n",
              "      <td>218.000000</td>\n",
              "      <td>226.000000</td>\n",
              "      <td>143.000000</td>\n",
              "      <td>1710.000000</td>\n",
              "    </tr>\n",
              "    <tr>\n",
              "      <th>6</th>\n",
              "      <td>75%</td>\n",
              "      <td>3163.000000</td>\n",
              "      <td>260.000000</td>\n",
              "      <td>18.000000</td>\n",
              "      <td>384.000000</td>\n",
              "      <td>69.000000</td>\n",
              "      <td>3328.000000</td>\n",
              "      <td>231.000000</td>\n",
              "      <td>237.000000</td>\n",
              "      <td>168.000000</td>\n",
              "      <td>2550.000000</td>\n",
              "    </tr>\n",
              "    <tr>\n",
              "      <th>7</th>\n",
              "      <td>max</td>\n",
              "      <td>3858.000000</td>\n",
              "      <td>360.000000</td>\n",
              "      <td>66.000000</td>\n",
              "      <td>1397.000000</td>\n",
              "      <td>601.000000</td>\n",
              "      <td>7117.000000</td>\n",
              "      <td>254.000000</td>\n",
              "      <td>254.000000</td>\n",
              "      <td>254.000000</td>\n",
              "      <td>7173.000000</td>\n",
              "    </tr>\n",
              "  </tbody>\n",
              "</table>\n",
              "</div>\n",
              "      <button class=\"colab-df-convert\" onclick=\"convertToInteractive('df-f7eb62a4-44fe-4d41-bdfa-2b03b0f3e748')\"\n",
              "              title=\"Convert this dataframe to an interactive table.\"\n",
              "              style=\"display:none;\">\n",
              "        \n",
              "  <svg xmlns=\"http://www.w3.org/2000/svg\" height=\"24px\"viewBox=\"0 0 24 24\"\n",
              "       width=\"24px\">\n",
              "    <path d=\"M0 0h24v24H0V0z\" fill=\"none\"/>\n",
              "    <path d=\"M18.56 5.44l.94 2.06.94-2.06 2.06-.94-2.06-.94-.94-2.06-.94 2.06-2.06.94zm-11 1L8.5 8.5l.94-2.06 2.06-.94-2.06-.94L8.5 2.5l-.94 2.06-2.06.94zm10 10l.94 2.06.94-2.06 2.06-.94-2.06-.94-.94-2.06-.94 2.06-2.06.94z\"/><path d=\"M17.41 7.96l-1.37-1.37c-.4-.4-.92-.59-1.43-.59-.52 0-1.04.2-1.43.59L10.3 9.45l-7.72 7.72c-.78.78-.78 2.05 0 2.83L4 21.41c.39.39.9.59 1.41.59.51 0 1.02-.2 1.41-.59l7.78-7.78 2.81-2.81c.8-.78.8-2.07 0-2.86zM5.41 20L4 18.59l7.72-7.72 1.47 1.35L5.41 20z\"/>\n",
              "  </svg>\n",
              "      </button>\n",
              "      \n",
              "  <style>\n",
              "    .colab-df-container {\n",
              "      display:flex;\n",
              "      flex-wrap:wrap;\n",
              "      gap: 12px;\n",
              "    }\n",
              "\n",
              "    .colab-df-convert {\n",
              "      background-color: #E8F0FE;\n",
              "      border: none;\n",
              "      border-radius: 50%;\n",
              "      cursor: pointer;\n",
              "      display: none;\n",
              "      fill: #1967D2;\n",
              "      height: 32px;\n",
              "      padding: 0 0 0 0;\n",
              "      width: 32px;\n",
              "    }\n",
              "\n",
              "    .colab-df-convert:hover {\n",
              "      background-color: #E2EBFA;\n",
              "      box-shadow: 0px 1px 2px rgba(60, 64, 67, 0.3), 0px 1px 3px 1px rgba(60, 64, 67, 0.15);\n",
              "      fill: #174EA6;\n",
              "    }\n",
              "\n",
              "    [theme=dark] .colab-df-convert {\n",
              "      background-color: #3B4455;\n",
              "      fill: #D2E3FC;\n",
              "    }\n",
              "\n",
              "    [theme=dark] .colab-df-convert:hover {\n",
              "      background-color: #434B5C;\n",
              "      box-shadow: 0px 1px 3px 1px rgba(0, 0, 0, 0.15);\n",
              "      filter: drop-shadow(0px 1px 2px rgba(0, 0, 0, 0.3));\n",
              "      fill: #FFFFFF;\n",
              "    }\n",
              "  </style>\n",
              "\n",
              "      <script>\n",
              "        const buttonEl =\n",
              "          document.querySelector('#df-f7eb62a4-44fe-4d41-bdfa-2b03b0f3e748 button.colab-df-convert');\n",
              "        buttonEl.style.display =\n",
              "          google.colab.kernel.accessAllowed ? 'block' : 'none';\n",
              "\n",
              "        async function convertToInteractive(key) {\n",
              "          const element = document.querySelector('#df-f7eb62a4-44fe-4d41-bdfa-2b03b0f3e748');\n",
              "          const dataTable =\n",
              "            await google.colab.kernel.invokeFunction('convertToInteractive',\n",
              "                                                     [key], {});\n",
              "          if (!dataTable) return;\n",
              "\n",
              "          const docLinkHtml = 'Like what you see? Visit the ' +\n",
              "            '<a target=\"_blank\" href=https://colab.research.google.com/notebooks/data_table.ipynb>data table notebook</a>'\n",
              "            + ' to learn more about interactive tables.';\n",
              "          element.innerHTML = '';\n",
              "          dataTable['output_type'] = 'display_data';\n",
              "          await google.colab.output.renderOutput(dataTable, element);\n",
              "          const docLink = document.createElement('div');\n",
              "          docLink.innerHTML = docLinkHtml;\n",
              "          element.appendChild(docLink);\n",
              "        }\n",
              "      </script>\n",
              "    </div>\n",
              "  </div>\n",
              "  "
            ]
          },
          "metadata": {},
          "execution_count": 14
        }
      ]
    },
    {
      "cell_type": "markdown",
      "source": [
        "## Visualize Attributes\n",
        "\n",
        "## Aspect and Slope\n",
        "This distribution plot shows the direction that the sampled plots were facing on various slopes. 0 degrees and 360 degrees are oriented due North with 180 degrees being due South. This plot shows that most of the land was facing Northeast and decreased steadily with the lowest number of landplots facing Southwest."
      ],
      "metadata": {
        "id": "oSIfZGK2ZdC4"
      },
      "id": "oSIfZGK2ZdC4"
    },
    {
      "cell_type": "code",
      "source": [
        "aspectDF = forest_cover_type[['Aspect','Cover_Type']].copy()\n",
        "cardBins = [0, 45, 135, 225, 315, 360]\n",
        "cardLabels = ['North', 'East', 'South', 'West', 'North']\n",
        "aspectDF['Cardinal'] = pd.cut(aspectDF['Aspect'],\n",
        "                              bins = cardBins,\n",
        "                              labels = cardLabels,\n",
        "                              ordered = False)\n",
        "sns.displot(x = 'Aspect',\n",
        "            hue = 'Cardinal',\n",
        "            data = aspectDF).set(title = 'Slope aspect of plot in degrees')\n",
        "plt.show()"
      ],
      "metadata": {
        "id": "tbucTPPWl6Ar",
        "colab": {
          "base_uri": "https://localhost:8080/",
          "height": 385
        },
        "outputId": "1fdb9552-38eb-4df7-b2d8-ee1e55a5429a"
      },
      "id": "tbucTPPWl6Ar",
      "execution_count": 15,
      "outputs": [
        {
          "output_type": "display_data",
          "data": {
            "text/plain": [
              "<Figure size 424.875x360 with 1 Axes>"
            ],
            "image/png": "[encoded data removed]"
          },
          "metadata": {
            "needs_background": "light"
          }
        }
      ]
    },
    {
      "cell_type": "markdown",
      "source": [
        "## Slope\n",
        "\n",
        "The histogram of the slopes surveyed shows that the data is slightly right skewed, meaning that most of the cover type were evaulated at lower degrees. However, there were plots of land that had increasingly steeper slopes. Further investigation will look at any potential relationships between these higher degree slopes and if they relate to a certain cover type or higher elevations."
      ],
      "metadata": {
        "id": "0PpoK2tfschf"
      },
      "id": "0PpoK2tfschf"
    },
    {
      "cell_type": "code",
      "source": [
        "sns.histplot(x = 'Slope',\n",
        "             bins = 22,\n",
        "             data = forest_cover_type, \n",
        "             color = 'firebrick').set(title = 'Distribution of plot slopes in degrees')\n",
        "plt.show()             "
      ],
      "metadata": {
        "id": "WVW92dRUsSVs",
        "colab": {
          "base_uri": "https://localhost:8080/",
          "height": 295
        },
        "outputId": "ad161b47-7b8e-46be-9051-4eb593f67bbf"
      },
      "id": "WVW92dRUsSVs",
      "execution_count": 16,
      "outputs": [
        {
          "output_type": "display_data",
          "data": {
            "text/plain": [
              "<Figure size 432x288 with 1 Axes>"
            ],
            "image/png": "[encoded data removed]"
          },
          "metadata": {
            "needs_background": "light"
          }
        }
      ]
    },
    {
      "cell_type": "markdown",
      "source": [
        "## Hillshade\n",
        "- When we look at the summary statistics for Hillshade, we see a similar profile between the 9 am, noon, and 3pm variables. This will be important to look at more closely (covariance) for using these variables in a model.\n",
        "- We also see in the covariance plot below, that there is a high correlation between these 3 variables."
      ],
      "metadata": {
        "id": "4_295notjfLs"
      },
      "id": "4_295notjfLs"
    },
    {
      "cell_type": "code",
      "source": [
        "# make list of hillside variables\n",
        "hillside = ['Hillshade_9am','Hillshade_Noon',\n",
        "                        'Hillshade_3pm']\n",
        "hillside_df=simpleStats[hillside]\n",
        "ax=sns.lineplot(data=hillside_df)\n",
        "\n",
        "#ax.set_xticks(7) \n",
        "ax.set_xticklabels(['mean','mean', 'std', 'min', '25%', '50%', '75%', 'max'])\n",
        "hillside_df"
      ],
      "metadata": {
        "id": "NKWx-AlnCxlW",
        "colab": {
          "base_uri": "https://localhost:8080/",
          "height": 517
        },
        "outputId": "d6eaf2d8-53d0-4f01-c92d-2c25cd034fa1"
      },
      "id": "NKWx-AlnCxlW",
      "execution_count": 17,
      "outputs": [
        {
          "output_type": "execute_result",
          "data": {
            "text/plain": [
              "   Hillshade_9am  Hillshade_Noon  Hillshade_3pm\n",
              "1     212.146049      223.318716     142.528263\n",
              "2      26.769889       19.768697      38.274529\n",
              "3       0.000000        0.000000       0.000000\n",
              "4     198.000000      213.000000     119.000000\n",
              "5     218.000000      226.000000     143.000000\n",
              "6     231.000000      237.000000     168.000000\n",
              "7     254.000000      254.000000     254.000000"
            ],
            "text/html": [
              "\n",
              "  <div id=\"df-2d5fa2d1-b065-445f-bb09-f251346a46a1\">\n",
              "    <div class=\"colab-df-container\">\n",
              "      <div>\n",
              "<style scoped>\n",
              "    .dataframe tbody tr th:only-of-type {\n",
              "        vertical-align: middle;\n",
              "    }\n",
              "\n",
              "    .dataframe tbody tr th {\n",
              "        vertical-align: top;\n",
              "    }\n",
              "\n",
              "    .dataframe thead th {\n",
              "        text-align: right;\n",
              "    }\n",
              "</style>\n",
              "<table border=\"1\" class=\"dataframe\">\n",
              "  <thead>\n",
              "    <tr style=\"text-align: right;\">\n",
              "      <th></th>\n",
              "      <th>Hillshade_9am</th>\n",
              "      <th>Hillshade_Noon</th>\n",
              "      <th>Hillshade_3pm</th>\n",
              "    </tr>\n",
              "  </thead>\n",
              "  <tbody>\n",
              "    <tr>\n",
              "      <th>1</th>\n",
              "      <td>212.146049</td>\n",
              "      <td>223.318716</td>\n",
              "      <td>142.528263</td>\n",
              "    </tr>\n",
              "    <tr>\n",
              "      <th>2</th>\n",
              "      <td>26.769889</td>\n",
              "      <td>19.768697</td>\n",
              "      <td>38.274529</td>\n",
              "    </tr>\n",
              "    <tr>\n",
              "      <th>3</th>\n",
              "      <td>0.000000</td>\n",
              "      <td>0.000000</td>\n",
              "      <td>0.000000</td>\n",
              "    </tr>\n",
              "    <tr>\n",
              "      <th>4</th>\n",
              "      <td>198.000000</td>\n",
              "      <td>213.000000</td>\n",
              "      <td>119.000000</td>\n",
              "    </tr>\n",
              "    <tr>\n",
              "      <th>5</th>\n",
              "      <td>218.000000</td>\n",
              "      <td>226.000000</td>\n",
              "      <td>143.000000</td>\n",
              "    </tr>\n",
              "    <tr>\n",
              "      <th>6</th>\n",
              "      <td>231.000000</td>\n",
              "      <td>237.000000</td>\n",
              "      <td>168.000000</td>\n",
              "    </tr>\n",
              "    <tr>\n",
              "      <th>7</th>\n",
              "      <td>254.000000</td>\n",
              "      <td>254.000000</td>\n",
              "      <td>254.000000</td>\n",
              "    </tr>\n",
              "  </tbody>\n",
              "</table>\n",
              "</div>\n",
              "      <button class=\"colab-df-convert\" onclick=\"convertToInteractive('df-2d5fa2d1-b065-445f-bb09-f251346a46a1')\"\n",
              "              title=\"Convert this dataframe to an interactive table.\"\n",
              "              style=\"display:none;\">\n",
              "        \n",
              "  <svg xmlns=\"http://www.w3.org/2000/svg\" height=\"24px\"viewBox=\"0 0 24 24\"\n",
              "       width=\"24px\">\n",
              "    <path d=\"M0 0h24v24H0V0z\" fill=\"none\"/>\n",
              "    <path d=\"M18.56 5.44l.94 2.06.94-2.06 2.06-.94-2.06-.94-.94-2.06-.94 2.06-2.06.94zm-11 1L8.5 8.5l.94-2.06 2.06-.94-2.06-.94L8.5 2.5l-.94 2.06-2.06.94zm10 10l.94 2.06.94-2.06 2.06-.94-2.06-.94-.94-2.06-.94 2.06-2.06.94z\"/><path d=\"M17.41 7.96l-1.37-1.37c-.4-.4-.92-.59-1.43-.59-.52 0-1.04.2-1.43.59L10.3 9.45l-7.72 7.72c-.78.78-.78 2.05 0 2.83L4 21.41c.39.39.9.59 1.41.59.51 0 1.02-.2 1.41-.59l7.78-7.78 2.81-2.81c.8-.78.8-2.07 0-2.86zM5.41 20L4 18.59l7.72-7.72 1.47 1.35L5.41 20z\"/>\n",
              "  </svg>\n",
              "      </button>\n",
              "      \n",
              "  <style>\n",
              "    .colab-df-container {\n",
              "      display:flex;\n",
              "      flex-wrap:wrap;\n",
              "      gap: 12px;\n",
              "    }\n",
              "\n",
              "    .colab-df-convert {\n",
              "      background-color: #E8F0FE;\n",
              "      border: none;\n",
              "      border-radius: 50%;\n",
              "      cursor: pointer;\n",
              "      display: none;\n",
              "      fill: #1967D2;\n",
              "      height: 32px;\n",
              "      padding: 0 0 0 0;\n",
              "      width: 32px;\n",
              "    }\n",
              "\n",
              "    .colab-df-convert:hover {\n",
              "      background-color: #E2EBFA;\n",
              "      box-shadow: 0px 1px 2px rgba(60, 64, 67, 0.3), 0px 1px 3px 1px rgba(60, 64, 67, 0.15);\n",
              "      fill: #174EA6;\n",
              "    }\n",
              "\n",
              "    [theme=dark] .colab-df-convert {\n",
              "      background-color: #3B4455;\n",
              "      fill: #D2E3FC;\n",
              "    }\n",
              "\n",
              "    [theme=dark] .colab-df-convert:hover {\n",
              "      background-color: #434B5C;\n",
              "      box-shadow: 0px 1px 3px 1px rgba(0, 0, 0, 0.15);\n",
              "      filter: drop-shadow(0px 1px 2px rgba(0, 0, 0, 0.3));\n",
              "      fill: #FFFFFF;\n",
              "    }\n",
              "  </style>\n",
              "\n",
              "      <script>\n",
              "        const buttonEl =\n",
              "          document.querySelector('#df-2d5fa2d1-b065-445f-bb09-f251346a46a1 button.colab-df-convert');\n",
              "        buttonEl.style.display =\n",
              "          google.colab.kernel.accessAllowed ? 'block' : 'none';\n",
              "\n",
              "        async function convertToInteractive(key) {\n",
              "          const element = document.querySelector('#df-2d5fa2d1-b065-445f-bb09-f251346a46a1');\n",
              "          const dataTable =\n",
              "            await google.colab.kernel.invokeFunction('convertToInteractive',\n",
              "                                                     [key], {});\n",
              "          if (!dataTable) return;\n",
              "\n",
              "          const docLinkHtml = 'Like what you see? Visit the ' +\n",
              "            '<a target=\"_blank\" href=https://colab.research.google.com/notebooks/data_table.ipynb>data table notebook</a>'\n",
              "            + ' to learn more about interactive tables.';\n",
              "          element.innerHTML = '';\n",
              "          dataTable['output_type'] = 'display_data';\n",
              "          await google.colab.output.renderOutput(dataTable, element);\n",
              "          const docLink = document.createElement('div');\n",
              "          docLink.innerHTML = docLinkHtml;\n",
              "          element.appendChild(docLink);\n",
              "        }\n",
              "      </script>\n",
              "    </div>\n",
              "  </div>\n",
              "  "
            ]
          },
          "metadata": {},
          "execution_count": 17
        },
        {
          "output_type": "display_data",
          "data": {
            "text/plain": [
              "<Figure size 432x288 with 1 Axes>"
            ],
            "image/png": "[encoded data removed]"
          },
          "metadata": {
            "needs_background": "light"
          }
        }
      ]
    },
    {
      "cell_type": "code",
      "source": [
        "# Correlation df\n",
        "cormat = hillside_df.corr()\n",
        "# Round to two decimals\n",
        "round(cormat, 2)\n",
        "\n",
        "# heatmap of the correlations\n",
        "matrix = np.triu(np.ones_like(cormat, dtype=bool))\n",
        "sns.heatmap(cormat, annot = True, mask = matrix);"
      ],
      "metadata": {
        "id": "t7LldGtzkQ79",
        "colab": {
          "base_uri": "https://localhost:8080/",
          "height": 266
        },
        "outputId": "eee644f7-5d68-4ef0-a3c5-68879579c30a"
      },
      "id": "t7LldGtzkQ79",
      "execution_count": 18,
      "outputs": [
        {
          "output_type": "display_data",
          "data": {
            "text/plain": [
              "<Figure size 432x288 with 2 Axes>"
            ],
            "image/png": "[encoded data removed]"
          },
          "metadata": {
            "needs_background": "light"
          }
        }
      ]
    },
    {
      "cell_type": "markdown",
      "source": [
        "## Cover Type\n",
        "\n",
        "- Looking at the box plot graph below, we can see marked differences in the elevation of various cover types. \n",
        "\n",
        "- In particular, Krummholz is a group of species of trees which do well at higher elevations: \n",
        "\"Krummholz (German: krumm, \"crooked, bent, twisted\" and Holz, \"wood\") — also called knieholz (\"knee timber\") — is a type of stunted, deformed vegetation encountered in the subarctic and subalpine tree line landscapes, shaped by continual exposure to fierce, freezing winds.\" reference (https://en.wikipedia.org/wiki/Krummholz)'\n",
        "\n",
        "- We also see large differences in the sample sizes for various cover types."
      ],
      "metadata": {
        "id": "UXTHk9s6tA0T"
      },
      "id": "UXTHk9s6tA0T"
    },
    {
      "cell_type": "code",
      "source": [
        "sns.set(rc={'figure.figsize':(24.7,5.27)})\n",
        "\n",
        "#side by side plot\n",
        "fig, ax =plt.subplots(1,2)\n",
        "\n",
        "# box plots for elevation vs cover type\n",
        "sns.boxplot(x = 'Cover_Type', y = 'Elevation', data = forest_cover_type, ax=ax[0], palette=[\"m\", \"g\", \"b\", \"c\", \"r\", \"w\", \"m\"])\n",
        "\n",
        "# count plot for cover type\n",
        "sns.countplot(forest_cover_type['Cover_Type'],  ax=ax[1], palette=[\"m\", \"g\", \"b\", \"c\", \"r\", \"w\", \"m\"])\n",
        "fig.show()"
      ],
      "metadata": {
        "id": "EcHMsCUI9g-4",
        "colab": {
          "base_uri": "https://localhost:8080/",
          "height": 252
        },
        "outputId": "77152539-d58c-4aaa-9934-0b3ffe7fbdb1"
      },
      "id": "EcHMsCUI9g-4",
      "execution_count": 19,
      "outputs": [
        {
          "output_type": "stream",
          "name": "stderr",
          "text": [
            "/usr/local/lib/python3.8/dist-packages/seaborn/_decorators.py:36: FutureWarning: Pass the following variable as a keyword arg: x. From version 0.12, the only valid positional argument will be `data`, and passing other arguments without an explicit keyword will result in an error or misinterpretation.\n",
            "  warnings.warn(\n"
          ]
        },
        {
          "output_type": "display_data",
          "data": {
            "text/plain": [
              "<Figure size 1778.4x379.44 with 2 Axes>"
            ],
            "image/png": "[encoded data removed]"
          },
          "metadata": {}
        }
      ]
    },
    {
      "cell_type": "markdown",
      "source": [
        "## Elevation\n",
        "\n",
        "- Looking at the distribution of cover types, we can see the distribution of cover type has a bell shaped curve, with a sample of outliers on either side of the axis.\n",
        "- When we are predicting elevation, we will need to work to find which patterns can help to identify some of the lower and upper outliers in elevation. "
      ],
      "metadata": {
        "id": "Bcwtnt9XwAOQ"
      },
      "id": "Bcwtnt9XwAOQ"
    },
    {
      "cell_type": "code",
      "source": [
        "# distribution plot for elevation in SMU Blue\n",
        "\n",
        "sns.displot(forest_cover_type['Elevation'], \n",
        "            color = '#0033A0', \n",
        "            height = 5.27, \n",
        "            aspect = 12.27 / 5.27)\n",
        "plt.show()"
      ],
      "metadata": {
        "id": "IIRD4nFF9bgH",
        "colab": {
          "base_uri": "https://localhost:8080/",
          "height": 343
        },
        "outputId": "f3f02184-76e9-414d-f41b-8a0058a3ecd3"
      },
      "id": "IIRD4nFF9bgH",
      "execution_count": 20,
      "outputs": [
        {
          "output_type": "display_data",
          "data": {
            "text/plain": [
              "<Figure size 883.44x379.44 with 1 Axes>"
            ],
            "image/png": "[encoded data removed]"
          },
          "metadata": {}
        }
      ]
    },
    {
      "cell_type": "code",
      "source": [
        "# Function for Hist Viz\n",
        "\n",
        "def histogram_and_boxplot(df_column):\n",
        "    f, (ax_box, ax_hist) = plt.subplots(2, \n",
        "                                        sharex = True, \n",
        "                                        gridspec_kw = {\"height_ratios\": (.15, .85)})\n",
        "    sns.set(style = \"ticks\")\n",
        "    flierprops = dict(marker = 'o', \n",
        "                      markersize = 4, \n",
        "                      markerfacecolor = 'none', \n",
        "                      linestyle = 'none', \n",
        "                      markeredgecolor = 'blue')\n",
        "    text  = 'Std dev: ' + str(round(df_column.std(), 2)) + '\\n'\n",
        "    text += 'Mean: ' + str(round(df_column.mean(), 2)) + '\\n'\n",
        "    text += 'Median: ' + str(round(df_column.median(), 2)) + '\\n'\n",
        "    text += 'Skew: ' + str(round(df_column.skew(), 2)) + '\\n'\n",
        "    text += 'Kurt: ' + str(round(df_column.kurt(), 2))\n",
        "    plt.text(0.95, \n",
        "             0.5, \n",
        "             text, \n",
        "             fontsize = 10, \n",
        "             transform = plt.gcf().transFigure)\n",
        "    plt.axvline(df_column.median(), \n",
        "                color = 'k', \n",
        "                linestyle = 'dashed', \n",
        "                linewidth = 1)\n",
        "    sns.boxplot(x = df_column, \n",
        "                ax = ax_box, \n",
        "                fliersize = 4, \n",
        "                width = 0.50, \n",
        "                linewidth = 1,\n",
        "                flierprops = flierprops)\n",
        "    sns.histplot(x = df_column, \n",
        "                 ax = ax_hist)\n",
        "    ax_box.set(yticks = [])\n",
        "    sns.despine(ax = ax_hist)   \n",
        "    sns.despine(ax = ax_box)  \n",
        "    plt.show()"
      ],
      "metadata": {
        "id": "-ET7P-KhzgmA"
      },
      "id": "-ET7P-KhzgmA",
      "execution_count": null,
      "outputs": []
    },
    {
      "cell_type": "markdown",
      "source": [
        "## Distance Variables \n",
        "\n",
        "When looking at Distance:\n",
        "- Horizontal & Vertical to Hydrology\n",
        "- Horizontal to Fire Points\n",
        "- Horizontal to Roadways\n",
        "\n",
        "We see similar patterns of data in both Fire points/Roadways, which may indicate that these 2 variables aren't independent."
      ],
      "metadata": {
        "id": "dEIyf0yR4Zzi"
      },
      "id": "dEIyf0yR4Zzi"
    },
    {
      "cell_type": "code",
      "source": [
        "# use function to plot box and histogram for all distance variables\n",
        "\n",
        "distance = ['Horizontal_Distance_To_Hydrology', 'Vertical_Distance_To_Hydrology', 'Horizontal_Distance_To_Roadways', 'Horizontal_Distance_To_Fire_Points']\n",
        "distance_df=forest_cover_type[distance]\n",
        "\n",
        "for col in distance_df.columns[:]:\n",
        "    histogram_and_boxplot(distance_df[col])"
      ],
      "metadata": {
        "id": "cxq0K10RzkWi",
        "colab": {
          "base_uri": "https://localhost:8080/",
          "height": 776
        },
        "outputId": "2365580b-89c4-47a9-8c23-de140ade2b3a"
      },
      "id": "cxq0K10RzkWi",
      "execution_count": null,
      "outputs": [
        {
          "output_type": "display_data",
          "data": {
            "text/plain": [
              "<Figure size 1778.4x379.44 with 2 Axes>"
            ],
            "image/png": "[encoded data removed]"
          },
          "metadata": {}
        },
        {
          "output_type": "display_data",
          "data": {
            "text/plain": [
              "<Figure size 1778.4x379.44 with 2 Axes>"
            ],
            "image/png": "[encoded data removed]"
          },
          "metadata": {}
        },
        {
          "output_type": "display_data",
          "data": {
            "text/plain": [
              "<Figure size 1778.4x379.44 with 2 Axes>"
            ],
            "image/png": "[encoded data removed]"
          },
          "metadata": {}
        },
        {
          "output_type": "display_data",
          "data": {
            "text/plain": [
              "<Figure size 1778.4x379.44 with 2 Axes>"
            ],
            "image/png": "[encoded data removed]"
          },
          "metadata": {}
        }
      ]
    },
    {
      "cell_type": "markdown",
      "source": [
        "## Explore Joint Attributes\n",
        "Looking at the scatter matrix below, there are a few interesting trends to highlight. First, Elevation looks to have somewhat of a positive relationship with the Horizontal and Vertical Distance to Hydrology. This is likely caused by the decrease in rivers, streams, and lakes at higher elevations in a mountain range.\n",
        "\n",
        "Another interesting takeaway is comparing the Aspect of the slope to the Hillshade at 9am, Noon, and 3pm. This shows how the sunlight a plot of land changes throughout the day, with Southeast facing slopes receiving more light in the morning and Northwest facing slopes receiving more light in the afternoon.\n",
        "\n",
        "As expected, there is potential positive relationship between the Horizontal and Vertical Distance to Hydrology. Due to the fact that these both look to be correlated with Elevation, care should be taken to make sure they are not too correlated."
      ],
      "metadata": {
        "id": "vIjGsYESYNrk"
      },
      "id": "vIjGsYESYNrk"
    },
    {
      "cell_type": "code",
      "source": [
        "\n",
        "g = sns.pairplot(continuous_variables_df,diag_kind='kde')\n",
        "g.map_lower(sns.kdeplot,color='.2')\n"
      ],
      "metadata": {
        "id": "Wi6GoFnWBGrW"
      },
      "id": "Wi6GoFnWBGrW",
      "execution_count": null,
      "outputs": []
    },
    {
      "cell_type": "code",
      "source": [
        "# Correlation df\n",
        "cormat = forest_cover_type.corr()\n",
        "# Round to two decimals\n",
        "round(cormat, 2)\n",
        "\n",
        "# Maybe try to subset this a little?\n",
        "# heatmap of the correlations\n",
        "matrix = np.triu(np.ones_like(cormat, dtype=bool))\n",
        "sns.heatmap(cormat, annot = True, mask = matrix);"
      ],
      "metadata": {
        "id": "xqLG6fDq41dA"
      },
      "id": "xqLG6fDq41dA",
      "execution_count": null,
      "outputs": []
    },
    {
      "cell_type": "markdown",
      "source": [
        "The correlation heatmap allows for easy visual recognition of which features are correlated with other features. This heatmap also shows the correlation as being positive or negative. This will help in future analysis and testing. \n",
        "\n",
        "We are able to see the high correlation between \n",
        "\n",
        "*   'Hillside_9am' - 'Hillside_3pm'\n",
        "*   'Hillside_3pm' - 'Aspect'\n",
        "*   'Horizontal_Distance_To_Hydrology' - 'Vertical_Distance_To_Hydrology'\n",
        "\n",
        "We can further explore these correlations a little later. "
      ],
      "metadata": {
        "id": "jCP-PSiK4-oh"
      },
      "id": "jCP-PSiK4-oh"
    },
    {
      "cell_type": "code",
      "source": [
        "aPlot = sns.violinplot(x = 'Cover_Type',\n",
        "                       y = 'Aspect',\n",
        "                       data = aspectDF)\n",
        "\n",
        "aPlot.set_xticklabels(aPlot.get_xticklabels(),\n",
        "                      rotation = 45,\n",
        "                      horizontalalignment = 'right')\n",
        "\n",
        "\n",
        "\n",
        "plt.show()"
      ],
      "metadata": {
        "id": "iJ9-DdFtNd8W"
      },
      "id": "iJ9-DdFtNd8W",
      "execution_count": null,
      "outputs": []
    },
    {
      "cell_type": "markdown",
      "source": [
        "## Explore Attributes and Class\n",
        "\n",
        "The violinplot above shows the distribution of the different cover types for the aspect of the plot of land containing that cover type. While it appears that most of the cover types were found at every aspect, there are some interesting trends. Aspen cover and Cottonwood/Willow look to mostly be on East facing slopes. Lodgepole Pine and Spruce/Fir favoring North facing slopes, while Douglas-fir are heavily concentrated facing North. Also, Southwest faces seem to have the smallest concentration of any cover type, but was also the least represented aspect in the dataset.\n",
        "\n",
        "Since Aspen, Cottonwood, and Willow trees are deciduous they likely receive more sun on South facing aspects which could lead to them being the dominant cover type. Conversely, Lodgepole Pine, Spruce, Fir, Ponderosa Pine, and Douglas-fir are all confierous evergreen trees prefer light shade and could lead to them being more prevalent on North facing slopes."
      ],
      "metadata": {
        "id": "PuYyTYbEYjFc"
      },
      "id": "PuYyTYbEYjFc"
    },
    {
      "cell_type": "code",
      "source": [
        "aPlot2 = sns.FacetGrid(aspectDF,\n",
        "                       col = 'Cover_Type',\n",
        "                       col_wrap = 4)\n",
        "\n",
        "aPlot2.map(sns.histplot, \n",
        "           'Cardinal',\n",
        "           stat = 'percent')\n",
        "plt.show()"
      ],
      "metadata": {
        "id": "1AktQn6KDeUw"
      },
      "id": "1AktQn6KDeUw",
      "execution_count": null,
      "outputs": []
    },
    {
      "cell_type": "code",
      "source": [
        "plt.figure(figsize = (16, 8))\n",
        "sns.countplot(data = forest_cover_type, \n",
        "              x = 'Soil_Type', \n",
        "              hue = 'Cover_Type')\n",
        "plt.xticks(rotation = 90)\n",
        "plt.show()"
      ],
      "metadata": {
        "id": "QYzboCTZhD7f"
      },
      "id": "QYzboCTZhD7f",
      "execution_count": null,
      "outputs": []
    },
    {
      "cell_type": "markdown",
      "source": [
        "The above graph shows us that a vast majority of observations came from Wilderness areas \"Rawah\" and \"Comanche Peak\". That could skew the findings a little due to such a large difference in sampling. These two areas have almost 200,000 more observations than the other two areas. \n",
        "\n",
        "That being said, in these two highly observed areas, we see a very large connection between area and cover type. We will have to run further tests to identify if they are correlated statistically. \n",
        "\n",
        "\n",
        "##### Questions we will be looking into in future analysis:\n",
        "- Does this sampling have enough randomness to it? \n",
        "- Do we need to sample more from the lower two wilderness areas? \n",
        "- Does having so many observations under the 'Lodgepole Pine' and the 'Spruce/Fir' cover types affect/alter the potential for modeling in the future? \n",
        "- Does it skew the data too much?"
      ],
      "metadata": {
        "id": "HPt9iwH-iYQI"
      },
      "id": "HPt9iwH-iYQI"
    },
    {
      "cell_type": "code",
      "source": [
        "sns.displot(x = 'Slope',\n",
        "            hue = 'Cover_Type',\n",
        "            kind = 'kde',\n",
        "            multiple = 'fill',\n",
        "            data = forest_cover_type)\n",
        "plt.show()"
      ],
      "metadata": {
        "id": "2HfrXdIlQIDm"
      },
      "id": "2HfrXdIlQIDm",
      "execution_count": null,
      "outputs": []
    },
    {
      "cell_type": "markdown",
      "source": [
        "The Kernel Density Estimate plot above shows the density of certain cover types at different slope angles. Lodgepole Pines and Spruce/Fir make up the majority of the cover on slopes less than around 25 degrees. Between slopes of around 25 degrees to just less than 50 degrees, Ponderosa Pine represent a significant portion of the cover type. Aspen and Douglas-fir also see an increase in cover type around a slope of 50 degrees. While there were very few samples containing slopes of 60 degrees are greater, the only cover type that appeared at this high slope angle are Lodgepole Pines."
      ],
      "metadata": {
        "id": "cLFmupoKRwms"
      },
      "id": "cLFmupoKRwms"
    },
    {
      "cell_type": "code",
      "source": [
        "sns.countplot(data = forest_cover_type, x = 'Wilderness_Area', hue = 'Cover_Type')\n",
        "plt.show()"
      ],
      "metadata": {
        "id": "fVXsyR9NOgBY"
      },
      "id": "fVXsyR9NOgBY",
      "execution_count": null,
      "outputs": []
    },
    {
      "cell_type": "code",
      "source": [
        "forest_cover_type['Soil_Type'].value_counts()"
      ],
      "metadata": {
        "id": "4YMbHEbdhxMw"
      },
      "id": "4YMbHEbdhxMw",
      "execution_count": null,
      "outputs": []
    },
    {
      "cell_type": "markdown",
      "source": [
        "This graph and table show us that some soil types only have a handful of observations, whereas some have tens of thousands. We can see that \"Soil_Type29\" has 115,247 observations. This is equal to 19.835% of the total data. The smallest sample, \"Soil_Type15\", only holds 0.000516% of the total data. \n",
        "\n",
        "We will need to be mindful of the large difference in sampling from the soil types. This could greatly affect the outcome of future modeling, correlation assumptions, and findings."
      ],
      "metadata": {
        "id": "t2E0942RjnFA"
      },
      "id": "t2E0942RjnFA"
    },
    {
      "cell_type": "markdown",
      "source": [
        "Looking at the scatter matrix above, there are a few interesting trends to highlight. First, Elevation looks to have somewhat of a positive relationship with the Horizontal and Vertical Distance to Hydrology. This is likely caused by the decrease in rivers, streams, and lakes at higher elevations in a mountain range.\n",
        "\n",
        "Another interesting takeaway is comparing the Aspect of the slope to the Hillshade at 9am, Noon, and 3pm. This shows how the sunlight a plot of land changes throughout the day, with Southeast facing slopes receiving more light in the morning and Northwest facing slopes receiving more light in the afternoon.\n",
        "\n",
        "As expected, there is potential positive relationship between the Horizontal and Vertical Distance to Hydrology. Due to the fact that these both look to be correlated with Elevation, care should be taken to make sure they are not too correlated."
      ],
      "metadata": {
        "id": "kUsAJnuGBLJa"
      },
      "id": "kUsAJnuGBLJa"
    },
    {
      "cell_type": "markdown",
      "source": [
        "## New Features\n",
        "- We made adjustments to the numeric categorical columns for ease of use and understanding:\n",
        "\n",
        "- Soil type- from 40 to 1 column\n",
        "- Cover type- from 7 integer columns down to 1 column of a categorical string.\n",
        "- Wilderness area- from 4 integer columns down to 1 column of a categorical string."
      ],
      "metadata": {
        "id": "3HmErUr-Yr7L"
      },
      "id": "3HmErUr-Yr7L"
    },
    {
      "cell_type": "code",
      "source": [
        "#Data clean-up- Run above already\n",
        "\n",
        "# make list of continuous variables\n",
        "#continuous_variables = ['Elevation', \n",
        "#                        'Aspect', \n",
        "#                        'Slope', \n",
        "#                        'Horizontal_Distance_To_Hydrology', \n",
        "#                        'Vertical_Distance_To_Hydrology',\n",
        "#                        'Horizontal_Distance_To_Roadways',\n",
        "#                        'Hillshade_9am','Hillshade_Noon',\n",
        "#                        'Hillshade_3pm',\n",
        "#                        'Horizontal_Distance_To_Fire_Points',\n",
        "#                        'Cover_Type']\n",
        "\n",
        "# use list to make df\n",
        "#continuous_variables_df = forest_cover_type[continuous_variables]\n",
        "\n",
        "# subset df to make binary categorical\n",
        "# second number not inclusive\n",
        "#Wilderness_Area = forest_cover_type.iloc[:, 10:14]\n",
        "#Wilderness_Area['Wilderness_Area'] = Wilderness_Area.idxmax(axis = 1)\n",
        "\n",
        "# subset df to make binary categorical\n",
        "# second number not inclusive\n",
        "#Soil_Type = forest_cover_type.iloc[:, 14:54]\n",
        "#Soil_Type['Soil_Type'] = Soil_Type.idxmax(axis = 1)\n",
        "\n",
        "# only keep the new column\n",
        "#Soil_Type = Soil_Type[['Soil_Type']]\n",
        "#Wilderness_Area = Wilderness_Area[['Wilderness_Area']]\n",
        "\n",
        "# Add new columns to df\n",
        "#forest_cover_type['Soil_Type'] = Soil_Type\n",
        "#forest_cover_type['Wilderness_Area'] = Wilderness_Area\n",
        "\n",
        "# make copy of df\n",
        "#forest_cover_type_copy = forest_cover_type.copy()\n",
        "\n",
        "# delete first few characters in column so we only have number\n",
        "#forest_cover_type_copy['Soil_Type'] = forest_cover_type_copy['Soil_Type'].str[9:]\n",
        "#forest_cover_type_copy['Wilderness_Area'] = forest_cover_type_copy['Wilderness_Area'].str[15:]\n",
        "\n",
        "# delete superfluous columns now that new columsn are added\n",
        "#forest_cover_type.drop(forest_cover_type_copy.iloc[:, 10:54], \n",
        "#                       axis = 1, \n",
        "#                       inplace = True)\n",
        "\n",
        "# replace numerical categories with string for ease of understanding\n",
        "#forest_cover_type['Wilderness_Area'] = forest_cover_type['Wilderness_Area'].str.replace('Wilderness_Area1','Rawah')\n",
        "#forest_cover_type['Wilderness_Area'] = forest_cover_type['Wilderness_Area'].str.replace('Wilderness_Area2','Neota')\n",
        "#forest_cover_type['Wilderness_Area'] = forest_cover_type['Wilderness_Area'].str.replace('Wilderness_Area3','Comanche Peak')\n",
        "#forest_cover_type['Wilderness_Area'] = forest_cover_type['Wilderness_Area'].str.replace('Wilderness_Area4','Cache la Poudre')\n",
        "\n",
        "#forest_cover_type = forest_cover_type.astype({'Cover_Type':'string'})\n",
        "\n",
        "#forest_cover_type['Cover_Type'] = forest_cover_type['Cover_Type'].str.replace('1','Spruce/Fir')\n",
        "#forest_cover_type['Cover_Type'] = forest_cover_type['Cover_Type'].str.replace('2','Lodgepole Pine')\n",
        "#forest_cover_type['Cover_Type'] = forest_cover_type['Cover_Type'].str.replace('3','Ponderosa Pine')\n",
        "#forest_cover_type['Cover_Type'] = forest_cover_type['Cover_Type'].str.replace('4','Cottonwood/Willow')\n",
        "#forest_cover_type['Cover_Type'] = forest_cover_type['Cover_Type'].str.replace('5','Aspen')\n",
        "#forest_cover_type['Cover_Type'] = forest_cover_type['Cover_Type'].str.replace('6','Douglas-fir')\n",
        "#forest_cover_type['Cover_Type'] = forest_cover_type['Cover_Type'].str.replace('7','Krummholz')\n",
        "\n",
        "new_features = ['Cover_Type', 'Wilderness_Area', 'Soil_Type']\n",
        "new_features_df=forest_cover_type[new_features]\n",
        "new_features_df"
      ],
      "metadata": {
        "id": "2Rt1rqYho7BW",
        "outputId": "401d000f-4609-4a39-d9e3-4068dfc1dc55",
        "colab": {
          "base_uri": "https://localhost:8080/",
          "height": 424
        }
      },
      "execution_count": 6,
      "outputs": [
        {
          "output_type": "execute_result",
          "data": {
            "text/plain": [
              "             Cover_Type Wilderness_Area    Soil_Type\n",
              "0               Aspen.0           Rawah  Soil_Type29\n",
              "1               Aspen.0           Rawah  Soil_Type29\n",
              "2      Lodgepole Pine.0           Rawah  Soil_Type12\n",
              "3      Lodgepole Pine.0           Rawah  Soil_Type30\n",
              "4               Aspen.0           Rawah  Soil_Type29\n",
              "...                 ...             ...          ...\n",
              "97233      Spruce/Fir.0           Rawah  Soil_Type20\n",
              "97234      Spruce/Fir.0           Rawah  Soil_Type20\n",
              "97235      Spruce/Fir.0           Rawah  Soil_Type20\n",
              "97236      Spruce/Fir.0           Rawah  Soil_Type20\n",
              "97237              <NA>           Rawah  Soil_Type23\n",
              "\n",
              "[97238 rows x 3 columns]"
            ],
            "text/html": [
              "\n",
              "  <div id=\"df-f063e379-8d38-4130-926e-90c85763c1a9\">\n",
              "    <div class=\"colab-df-container\">\n",
              "      <div>\n",
              "<style scoped>\n",
              "    .dataframe tbody tr th:only-of-type {\n",
              "        vertical-align: middle;\n",
              "    }\n",
              "\n",
              "    .dataframe tbody tr th {\n",
              "        vertical-align: top;\n",
              "    }\n",
              "\n",
              "    .dataframe thead th {\n",
              "        text-align: right;\n",
              "    }\n",
              "</style>\n",
              "<table border=\"1\" class=\"dataframe\">\n",
              "  <thead>\n",
              "    <tr style=\"text-align: right;\">\n",
              "      <th></th>\n",
              "      <th>Cover_Type</th>\n",
              "      <th>Wilderness_Area</th>\n",
              "      <th>Soil_Type</th>\n",
              "    </tr>\n",
              "  </thead>\n",
              "  <tbody>\n",
              "    <tr>\n",
              "      <th>0</th>\n",
              "      <td>Aspen.0</td>\n",
              "      <td>Rawah</td>\n",
              "      <td>Soil_Type29</td>\n",
              "    </tr>\n",
              "    <tr>\n",
              "      <th>1</th>\n",
              "      <td>Aspen.0</td>\n",
              "      <td>Rawah</td>\n",
              "      <td>Soil_Type29</td>\n",
              "    </tr>\n",
              "    <tr>\n",
              "      <th>2</th>\n",
              "      <td>Lodgepole Pine.0</td>\n",
              "      <td>Rawah</td>\n",
              "      <td>Soil_Type12</td>\n",
              "    </tr>\n",
              "    <tr>\n",
              "      <th>3</th>\n",
              "      <td>Lodgepole Pine.0</td>\n",
              "      <td>Rawah</td>\n",
              "      <td>Soil_Type30</td>\n",
              "    </tr>\n",
              "    <tr>\n",
              "      <th>4</th>\n",
              "      <td>Aspen.0</td>\n",
              "      <td>Rawah</td>\n",
              "      <td>Soil_Type29</td>\n",
              "    </tr>\n",
              "    <tr>\n",
              "      <th>...</th>\n",
              "      <td>...</td>\n",
              "      <td>...</td>\n",
              "      <td>...</td>\n",
              "    </tr>\n",
              "    <tr>\n",
              "      <th>97233</th>\n",
              "      <td>Spruce/Fir.0</td>\n",
              "      <td>Rawah</td>\n",
              "      <td>Soil_Type20</td>\n",
              "    </tr>\n",
              "    <tr>\n",
              "      <th>97234</th>\n",
              "      <td>Spruce/Fir.0</td>\n",
              "      <td>Rawah</td>\n",
              "      <td>Soil_Type20</td>\n",
              "    </tr>\n",
              "    <tr>\n",
              "      <th>97235</th>\n",
              "      <td>Spruce/Fir.0</td>\n",
              "      <td>Rawah</td>\n",
              "      <td>Soil_Type20</td>\n",
              "    </tr>\n",
              "    <tr>\n",
              "      <th>97236</th>\n",
              "      <td>Spruce/Fir.0</td>\n",
              "      <td>Rawah</td>\n",
              "      <td>Soil_Type20</td>\n",
              "    </tr>\n",
              "    <tr>\n",
              "      <th>97237</th>\n",
              "      <td>&lt;NA&gt;</td>\n",
              "      <td>Rawah</td>\n",
              "      <td>Soil_Type23</td>\n",
              "    </tr>\n",
              "  </tbody>\n",
              "</table>\n",
              "<p>97238 rows × 3 columns</p>\n",
              "</div>\n",
              "      <button class=\"colab-df-convert\" onclick=\"convertToInteractive('df-f063e379-8d38-4130-926e-90c85763c1a9')\"\n",
              "              title=\"Convert this dataframe to an interactive table.\"\n",
              "              style=\"display:none;\">\n",
              "        \n",
              "  <svg xmlns=\"http://www.w3.org/2000/svg\" height=\"24px\"viewBox=\"0 0 24 24\"\n",
              "       width=\"24px\">\n",
              "    <path d=\"M0 0h24v24H0V0z\" fill=\"none\"/>\n",
              "    <path d=\"M18.56 5.44l.94 2.06.94-2.06 2.06-.94-2.06-.94-.94-2.06-.94 2.06-2.06.94zm-11 1L8.5 8.5l.94-2.06 2.06-.94-2.06-.94L8.5 2.5l-.94 2.06-2.06.94zm10 10l.94 2.06.94-2.06 2.06-.94-2.06-.94-.94-2.06-.94 2.06-2.06.94z\"/><path d=\"M17.41 7.96l-1.37-1.37c-.4-.4-.92-.59-1.43-.59-.52 0-1.04.2-1.43.59L10.3 9.45l-7.72 7.72c-.78.78-.78 2.05 0 2.83L4 21.41c.39.39.9.59 1.41.59.51 0 1.02-.2 1.41-.59l7.78-7.78 2.81-2.81c.8-.78.8-2.07 0-2.86zM5.41 20L4 18.59l7.72-7.72 1.47 1.35L5.41 20z\"/>\n",
              "  </svg>\n",
              "      </button>\n",
              "      \n",
              "  <style>\n",
              "    .colab-df-container {\n",
              "      display:flex;\n",
              "      flex-wrap:wrap;\n",
              "      gap: 12px;\n",
              "    }\n",
              "\n",
              "    .colab-df-convert {\n",
              "      background-color: #E8F0FE;\n",
              "      border: none;\n",
              "      border-radius: 50%;\n",
              "      cursor: pointer;\n",
              "      display: none;\n",
              "      fill: #1967D2;\n",
              "      height: 32px;\n",
              "      padding: 0 0 0 0;\n",
              "      width: 32px;\n",
              "    }\n",
              "\n",
              "    .colab-df-convert:hover {\n",
              "      background-color: #E2EBFA;\n",
              "      box-shadow: 0px 1px 2px rgba(60, 64, 67, 0.3), 0px 1px 3px 1px rgba(60, 64, 67, 0.15);\n",
              "      fill: #174EA6;\n",
              "    }\n",
              "\n",
              "    [theme=dark] .colab-df-convert {\n",
              "      background-color: #3B4455;\n",
              "      fill: #D2E3FC;\n",
              "    }\n",
              "\n",
              "    [theme=dark] .colab-df-convert:hover {\n",
              "      background-color: #434B5C;\n",
              "      box-shadow: 0px 1px 3px 1px rgba(0, 0, 0, 0.15);\n",
              "      filter: drop-shadow(0px 1px 2px rgba(0, 0, 0, 0.3));\n",
              "      fill: #FFFFFF;\n",
              "    }\n",
              "  </style>\n",
              "\n",
              "      <script>\n",
              "        const buttonEl =\n",
              "          document.querySelector('#df-f063e379-8d38-4130-926e-90c85763c1a9 button.colab-df-convert');\n",
              "        buttonEl.style.display =\n",
              "          google.colab.kernel.accessAllowed ? 'block' : 'none';\n",
              "\n",
              "        async function convertToInteractive(key) {\n",
              "          const element = document.querySelector('#df-f063e379-8d38-4130-926e-90c85763c1a9');\n",
              "          const dataTable =\n",
              "            await google.colab.kernel.invokeFunction('convertToInteractive',\n",
              "                                                     [key], {});\n",
              "          if (!dataTable) return;\n",
              "\n",
              "          const docLinkHtml = 'Like what you see? Visit the ' +\n",
              "            '<a target=\"_blank\" href=https://colab.research.google.com/notebooks/data_table.ipynb>data table notebook</a>'\n",
              "            + ' to learn more about interactive tables.';\n",
              "          element.innerHTML = '';\n",
              "          dataTable['output_type'] = 'display_data';\n",
              "          await google.colab.output.renderOutput(dataTable, element);\n",
              "          const docLink = document.createElement('div');\n",
              "          docLink.innerHTML = docLinkHtml;\n",
              "          element.appendChild(docLink);\n",
              "        }\n",
              "      </script>\n",
              "    </div>\n",
              "  </div>\n",
              "  "
            ]
          },
          "metadata": {},
          "execution_count": 6
        }
      ],
      "id": "2Rt1rqYho7BW"
    },
    {
      "cell_type": "markdown",
      "source": [
        "## Exceptional Work"
      ],
      "metadata": {
        "id": "5iJQR4QcY1vW"
      },
      "id": "5iJQR4QcY1vW"
    },
    {
      "cell_type": "code",
      "source": [
        "# https://realpython.com/logistic-regression-python/#logistic-regression-in-python\n",
        "\n",
        "# Assign specific features to two different variables\n",
        "X = forest_cover_type_copy.iloc[:, 0:12]\n",
        "y = forest_cover_type_copy.iloc[:, 12]"
      ],
      "metadata": {
        "id": "66coUttdU0co"
      },
      "id": "66coUttdU0co",
      "execution_count": null,
      "outputs": []
    },
    {
      "cell_type": "code",
      "source": [
        "# https://realpython.com/logistic-regression-python/#logistic-regression-in-python\n",
        "\n",
        "# Assign specific features to two different variables\n",
        "X = forest_cover_type_copy.iloc[:, 0:12]\n",
        "y = forest_cover_type_copy.iloc[:, 12]\n",
        "# Build a logistic regression model\n",
        "model = LogisticRegression(solver = 'liblinear', random_state = 0)\n",
        "model = model.fit(X, y)"
      ],
      "metadata": {
        "id": "5fgMKYndz22v"
      },
      "id": "5fgMKYndz22v",
      "execution_count": null,
      "outputs": []
    },
    {
      "cell_type": "code",
      "source": [
        "model.classes_\n",
        "# See the model results\n",
        "print(model.predict_proba(X), '\\n')\n",
        "print(model.predict(X), '\\n')\n",
        "\n",
        "print('The model score is ', model.score(X, y), '\\n')\n",
        "# this gives a 67.256% to our model\n",
        "\n",
        "print(classification_report(y, model.predict(X)), '\\n')"
      ],
      "metadata": {
        "id": "id9q-Qkfz4Bk",
        "colab": {
          "base_uri": "https://localhost:8080/"
        },
        "outputId": "21c75935-ceed-40df-cfe6-319714546b75"
      },
      "id": "id9q-Qkfz4Bk",
      "execution_count": null,
      "outputs": [
        {
          "output_type": "stream",
          "name": "stdout",
          "text": [
            "[[9.99846561e-01 1.53439491e-04]\n",
            " [9.99811414e-01 1.88585941e-04]\n",
            " [9.99298143e-01 7.01856673e-04]\n",
            " ...\n",
            " [5.62994245e-01 4.37005755e-01]\n",
            " [5.69882603e-01 4.30117397e-01]\n",
            " [5.33474632e-01 4.66525368e-01]] \n",
            "\n",
            "[0 0 0 ... 0 0 0] \n",
            "\n",
            "The model score is  0.9870088741712736 \n",
            "\n",
            "              precision    recall  f1-score   support\n",
            "\n",
            "           0       0.99      0.99      0.99    327648\n",
            "           1       0.98      0.99      0.99    253364\n",
            "\n",
            "    accuracy                           0.99    581012\n",
            "   macro avg       0.99      0.99      0.99    581012\n",
            "weighted avg       0.99      0.99      0.99    581012\n",
            " \n",
            "\n"
          ]
        }
      ]
    },
    {
      "cell_type": "code",
      "source": [
        "print(confusion_matrix(y, model.predict(X)), '\\n')\n",
        "\n",
        "cm = confusion_matrix(y, model.predict(X))\n",
        "\n",
        "fig, ax = plt.subplots(figsize = (8, 8))\n",
        "ax.imshow(cm)\n",
        "ax.grid(False)\n",
        "ax.xaxis.set(ticks = (0, 1, 2, 3, 4, 5, 6))\n",
        "ax.yaxis.set(ticks = (0, 1, 2, 3, 4, 5, 6))\n",
        "ax.set_ylim(6.5, -0.5)\n",
        "for i in range(7):\n",
        "    for j in range(7):\n",
        "        ax.text(j, \n",
        "                i, \n",
        "                cm[i, j], \n",
        "                ha = 'center', \n",
        "                va = 'center', \n",
        "                color = 'Green')\n",
        "plt.show()"
      ],
      "metadata": {
        "id": "w0yxnvd7z5m4",
        "colab": {
          "base_uri": "https://localhost:8080/",
          "height": 762
        },
        "outputId": "feb9838c-61b3-47cb-ff11-ed06628f96bf"
      },
      "id": "w0yxnvd7z5m4",
      "execution_count": null,
      "outputs": [
        {
          "output_type": "stream",
          "name": "stdout",
          "text": [
            "[[322919   4729]\n",
            " [  2819 250545]] \n",
            "\n"
          ]
        },
        {
          "output_type": "error",
          "ename": "IndexError",
          "evalue": "ignored",
          "traceback": [
            "\u001b[0;31m---------------------------------------------------------------------------\u001b[0m",
            "\u001b[0;31mIndexError\u001b[0m                                Traceback (most recent call last)",
            "\u001b[0;32m<ipython-input-61-96f1eb24ed9e>\u001b[0m in \u001b[0;36m<module>\u001b[0;34m\u001b[0m\n\u001b[1;32m     13\u001b[0m         ax.text(j, \n\u001b[1;32m     14\u001b[0m                 \u001b[0mi\u001b[0m\u001b[0;34m,\u001b[0m\u001b[0;34m\u001b[0m\u001b[0;34m\u001b[0m\u001b[0m\n\u001b[0;32m---> 15\u001b[0;31m                 \u001b[0mcm\u001b[0m\u001b[0;34m[\u001b[0m\u001b[0mi\u001b[0m\u001b[0;34m,\u001b[0m \u001b[0mj\u001b[0m\u001b[0;34m]\u001b[0m\u001b[0;34m,\u001b[0m\u001b[0;34m\u001b[0m\u001b[0;34m\u001b[0m\u001b[0m\n\u001b[0m\u001b[1;32m     16\u001b[0m                 \u001b[0mha\u001b[0m \u001b[0;34m=\u001b[0m \u001b[0;34m'center'\u001b[0m\u001b[0;34m,\u001b[0m\u001b[0;34m\u001b[0m\u001b[0;34m\u001b[0m\u001b[0m\n\u001b[1;32m     17\u001b[0m                 \u001b[0mva\u001b[0m \u001b[0;34m=\u001b[0m \u001b[0;34m'center'\u001b[0m\u001b[0;34m,\u001b[0m\u001b[0;34m\u001b[0m\u001b[0;34m\u001b[0m\u001b[0m\n",
            "\u001b[0;31mIndexError\u001b[0m: index 2 is out of bounds for axis 1 with size 2"
          ]
        },
        {
          "output_type": "display_data",
          "data": {
            "text/plain": [
              "<Figure size 576x576 with 1 Axes>"
            ],
            "image/png": "[encoded data removed]"
          },
          "metadata": {}
        }
      ]
    },
    {
      "cell_type": "markdown",
      "source": [
        "The model has good prediction cabailities in the first cover types - Spruce/Fir and Lodgepole Pine. That being said, it also incorrectly predicts those two quite a bit. This could be due to what we predicted earlier - the vastly large number of observations of these two specific cover types. We saw that approximately 80% of observations were one of these two cover types. That allows us to predict a very large number of them in our model. \n",
        "\n",
        "We also have to be mindful about the above visualization. The numbering is off by one. To fully and truly understand what is being represented, you have to add one to each number. So, if you see a 0 on the plot, that is actually cover_type1.\n",
        "\n",
        "We also have to be cognizant of the model never predicting cover_type5. That shows us, in the results, all zeros. Maybe we can look into some of those observations that really are Cover_Type5 and try to identify any unique trends or patterns. This could help us increase our models perfromance metrics. "
      ],
      "metadata": {
        "id": "65N3KsYT0AEP"
      },
      "id": "65N3KsYT0AEP"
    },
    {
      "cell_type": "code",
      "source": [
        "# print the metrics used to evaluate the model\n",
        "print(classification_report(y, model.predict(X)))"
      ],
      "metadata": {
        "id": "dEndOV7P0Gqp"
      },
      "id": "dEndOV7P0Gqp",
      "execution_count": null,
      "outputs": []
    },
    {
      "cell_type": "code",
      "source": [
        "# model with higher C value. default was c = 1\n",
        "\n",
        "\n",
        "model = LogisticRegression(solver = 'liblinear', \n",
        "                           C = 10.0, \n",
        "                           random_state = 0)\n",
        "model.fit(X, y)\n",
        "\n",
        "\n",
        "print('The model score is ', model.score(X, y), '\\n')\n",
        "\n",
        "# print the metrics used to evaluate the model\n",
        "print(classification_report(y, model.predict(X)))"
      ],
      "metadata": {
        "id": "xov8n72X0JeH"
      },
      "id": "xov8n72X0JeH",
      "execution_count": null,
      "outputs": []
    },
    {
      "cell_type": "markdown",
      "source": [
        "A high value of C tells the model to give more weight to the training data. A lower value of C will indicate the model to give complexity more weight at the cost of fitting the data. Thus, a high Hyper Parameter value C indicates that training data is more important and reflects the real world data, whereas low value is just the opposite of this.\n",
        "\n",
        "We do not see a change in accuracy score between the two models. "
      ],
      "metadata": {
        "id": "9k7atqGal1OH"
      },
      "id": "9k7atqGal1OH"
    }
  ],
  "metadata": {
    "kernelspec": {
      "display_name": "Python 3 (ipykernel)",
      "language": "python",
      "name": "python3"
    },
    "language_info": {
      "codemirror_mode": {
        "name": "ipython",
        "version": 3
      },
      "file_extension": ".py",
      "mimetype": "text/x-python",
      "name": "python",
      "nbconvert_exporter": "python",
      "pygments_lexer": "ipython3",
      "version": "3.10.9"
    },
    "colab": {
      "provenance": [],
      "include_colab_link": true
    }
  },
  "nbformat": 4,
  "nbformat_minor": 5
}